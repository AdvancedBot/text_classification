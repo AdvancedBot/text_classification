{
  "cells": [
    {
      "cell_type": "markdown",
      "metadata": {
        "id": "CBC1thr0F_KK"
      },
      "source": [
        "## Q1 - Dataset"
      ]
    },
    {
      "cell_type": "markdown",
      "metadata": {
        "id": "514aUNp-Bf0u"
      },
      "source": [
        "#### Solve this error\n",
        "NotImplementedError: A UTF-8 locale is required. Got ANSI_X3.4-1968"
      ]
    },
    {
      "cell_type": "code",
      "execution_count": null,
      "metadata": {
        "id": "IcLDCjgQBm5-"
      },
      "outputs": [],
      "source": [
        "import locale\n",
        "def getpreferredencoding(do_setlocale = True):\n",
        "    return \"UTF-8\"\n",
        "locale.getpreferredencoding = getpreferredencoding"
      ]
    },
    {
      "cell_type": "markdown",
      "metadata": {
        "id": "O4bVpU72Vofv"
      },
      "source": [
        "Datasets from Reddit: - use the Reddit dataset that we use in the labs"
      ]
    },
    {
      "cell_type": "markdown",
      "metadata": {
        "id": "TJF47fCCVZmd"
      },
      "source": [
        "#### Downloading\n",
        "Let's start by downloading a file containing data scraped from the online forum platform Reddit. This should take at most a few seconds to run."
      ]
    },
    {
      "cell_type": "code",
      "execution_count": null,
      "metadata": {
        "colab": {
          "base_uri": "https://localhost:8080/"
        },
        "id": "5xKW9c2R1aYS",
        "outputId": "887f9fba-30e0-4f17-91a3-61ab9803f85a"
      },
      "outputs": [
        {
          "name": "stdout",
          "output_type": "stream",
          "text": [
            "--2023-03-09 14:24:35--  https://gla-my.sharepoint.com/:u:/g/personal/jake_lever_glasgow_ac_uk/EY_R8Y7DkrxMqXGe-zlgeNkBdJU5ZNTf8FYrN2pqDwddMA?download=1\n",
            "Resolving gla-my.sharepoint.com (gla-my.sharepoint.com)... 13.107.136.8, 13.107.138.8, 2620:1ec:8f8::8, ...\n",
            "Connecting to gla-my.sharepoint.com (gla-my.sharepoint.com)|13.107.136.8|:443... connected.\n",
            "HTTP request sent, awaiting response... 302 Found\n",
            "Location: https://gla-my.sharepoint.com/personal/jake_lever_glasgow_ac_uk/_layouts/15/download.aspx?UniqueId=8ef1d18f92c34cbca9719efb396078d9 [following]\n",
            "--2023-03-09 14:24:35--  https://gla-my.sharepoint.com/personal/jake_lever_glasgow_ac_uk/_layouts/15/download.aspx?UniqueId=8ef1d18f92c34cbca9719efb396078d9\n",
            "Reusing existing connection to gla-my.sharepoint.com:443.\n",
            "HTTP request sent, awaiting response... 200 OK\n",
            "Length: 1279064 (1.2M) [application/json]\n",
            "Saving to: ‘reddit_posts.json’\n",
            "\n",
            "reddit_posts.json   100%[===================>]   1.22M  6.82MB/s    in 0.2s    \n",
            "\n",
            "2023-03-09 14:24:36 (6.82 MB/s) - ‘reddit_posts.json’ saved [1279064/1279064]\n",
            "\n"
          ]
        }
      ],
      "source": [
        "!wget -O reddit_posts.json https://gla-my.sharepoint.com/:u:/g/personal/jake_lever_glasgow_ac_uk/EY_R8Y7DkrxMqXGe-zlgeNkBdJU5ZNTf8FYrN2pqDwddMA?download=1"
      ]
    },
    {
      "cell_type": "markdown",
      "metadata": {
        "id": "K1vQXxH4xcWy"
      },
      "source": [
        "#### Import all packages."
      ]
    },
    {
      "cell_type": "code",
      "execution_count": null,
      "metadata": {
        "colab": {
          "base_uri": "https://localhost:8080/"
        },
        "id": "94AVaiUhxf4B",
        "outputId": "bccab716-00c0-4c23-c855-cf8cf24e4dea"
      },
      "outputs": [
        {
          "name": "stderr",
          "output_type": "stream",
          "text": [
            "/usr/local/lib/python3.9/dist-packages/torch/cuda/__init__.py:497: UserWarning: Can't initialize NVML\n",
            "  warnings.warn(\"Can't initialize NVML\")\n"
          ]
        },
        {
          "name": "stdout",
          "output_type": "stream",
          "text": [
            "Looking in indexes: https://pypi.org/simple, https://us-python.pkg.dev/colab-wheels/public/simple/\n",
            "Collecting transformers\n",
            "  Downloading transformers-4.26.1-py3-none-any.whl (6.3 MB)\n",
            "\u001b[2K     \u001b[90m━━━━━━━━━━━━━━━━━━━━━━━━━━━━━━━━━━━━━━━━\u001b[0m \u001b[32m6.3/6.3 MB\u001b[0m \u001b[31m25.4 MB/s\u001b[0m eta \u001b[36m0:00:00\u001b[0m\n",
            "\u001b[?25hCollecting datasets\n",
            "  Downloading datasets-2.10.1-py3-none-any.whl (469 kB)\n",
            "\u001b[2K     \u001b[90m━━━━━━━━━━━━━━━━━━━━━━━━━━━━━━━━━━━━━━\u001b[0m \u001b[32m469.0/469.0 KB\u001b[0m \u001b[31m11.7 MB/s\u001b[0m eta \u001b[36m0:00:00\u001b[0m\n",
            "\u001b[?25hCollecting tokenizers!=0.11.3,<0.14,>=0.11.1\n",
            "  Downloading tokenizers-0.13.2-cp39-cp39-manylinux_2_17_x86_64.manylinux2014_x86_64.whl (7.6 MB)\n",
            "\u001b[2K     \u001b[90m━━━━━━━━━━━━━━━━━━━━━━━━━━━━━━━━━━━━━━━━\u001b[0m \u001b[32m7.6/7.6 MB\u001b[0m \u001b[31m35.7 MB/s\u001b[0m eta \u001b[36m0:00:00\u001b[0m\n",
            "\u001b[?25hRequirement already satisfied: packaging>=20.0 in /usr/local/lib/python3.9/dist-packages (from transformers) (23.0)\n",
            "Requirement already satisfied: regex!=2019.12.17 in /usr/local/lib/python3.9/dist-packages (from transformers) (2022.6.2)\n",
            "Requirement already satisfied: numpy>=1.17 in /usr/local/lib/python3.9/dist-packages (from transformers) (1.22.4)\n",
            "Requirement already satisfied: pyyaml>=5.1 in /usr/local/lib/python3.9/dist-packages (from transformers) (6.0)\n",
            "Requirement already satisfied: requests in /usr/local/lib/python3.9/dist-packages (from transformers) (2.25.1)\n",
            "Requirement already satisfied: filelock in /usr/local/lib/python3.9/dist-packages (from transformers) (3.9.0)\n",
            "Collecting huggingface-hub<1.0,>=0.11.0\n",
            "  Downloading huggingface_hub-0.13.1-py3-none-any.whl (199 kB)\n",
            "\u001b[2K     \u001b[90m━━━━━━━━━━━━━━━━━━━━━━━━━━━━━━━━━━━━━━━\u001b[0m \u001b[32m199.2/199.2 KB\u001b[0m \u001b[31m6.0 MB/s\u001b[0m eta \u001b[36m0:00:00\u001b[0m\n",
            "\u001b[?25hRequirement already satisfied: tqdm>=4.27 in /usr/local/lib/python3.9/dist-packages (from transformers) (4.65.0)\n",
            "Requirement already satisfied: pyarrow>=6.0.0 in /usr/local/lib/python3.9/dist-packages (from datasets) (9.0.0)\n",
            "Collecting multiprocess\n",
            "  Downloading multiprocess-0.70.14-py39-none-any.whl (132 kB)\n",
            "\u001b[2K     \u001b[90m━━━━━━━━━━━━━━━━━━━━━━━━━━━━━━━━━━━━━━\u001b[0m \u001b[32m132.9/132.9 KB\u001b[0m \u001b[31m12.4 MB/s\u001b[0m eta \u001b[36m0:00:00\u001b[0m\n",
            "\u001b[?25hCollecting responses<0.19\n",
            "  Downloading responses-0.18.0-py3-none-any.whl (38 kB)\n",
            "Requirement already satisfied: pandas in /usr/local/lib/python3.9/dist-packages (from datasets) (1.3.5)\n",
            "Collecting dill<0.3.7,>=0.3.0\n",
            "  Downloading dill-0.3.6-py3-none-any.whl (110 kB)\n",
            "\u001b[2K     \u001b[90m━━━━━━━━━━━━━━━━━━━━━━━━━━━━━━━━━━━━━━\u001b[0m \u001b[32m110.5/110.5 KB\u001b[0m \u001b[31m11.2 MB/s\u001b[0m eta \u001b[36m0:00:00\u001b[0m\n",
            "\u001b[?25hCollecting aiohttp\n",
            "  Downloading aiohttp-3.8.4-cp39-cp39-manylinux_2_17_x86_64.manylinux2014_x86_64.whl (1.0 MB)\n",
            "\u001b[2K     \u001b[90m━━━━━━━━━━━━━━━━━━━━━━━━━━━━━━━━━━━━━━━━\u001b[0m \u001b[32m1.0/1.0 MB\u001b[0m \u001b[31m9.5 MB/s\u001b[0m eta \u001b[36m0:00:00\u001b[0m\n",
            "\u001b[?25hRequirement already satisfied: fsspec[http]>=2021.11.1 in /usr/local/lib/python3.9/dist-packages (from datasets) (2023.3.0)\n",
            "Collecting xxhash\n",
            "  Downloading xxhash-3.2.0-cp39-cp39-manylinux_2_17_x86_64.manylinux2014_x86_64.whl (212 kB)\n",
            "\u001b[2K     \u001b[90m━━━━━━━━━━━━━━━━━━━━━━━━━━━━━━━━━━━━━━━\u001b[0m \u001b[32m212.2/212.2 KB\u001b[0m \u001b[31m8.8 MB/s\u001b[0m eta \u001b[36m0:00:00\u001b[0m\n",
            "\u001b[?25hCollecting multidict<7.0,>=4.5\n",
            "  Downloading multidict-6.0.4-cp39-cp39-manylinux_2_17_x86_64.manylinux2014_x86_64.whl (114 kB)\n",
            "\u001b[2K     \u001b[90m━━━━━━━━━━━━━━━━━━━━━━━━━━━━━━━━━━━━━━\u001b[0m \u001b[32m114.2/114.2 KB\u001b[0m \u001b[31m10.9 MB/s\u001b[0m eta \u001b[36m0:00:00\u001b[0m\n",
            "\u001b[?25hCollecting charset-normalizer<4.0,>=2.0\n",
            "  Downloading charset_normalizer-3.1.0-cp39-cp39-manylinux_2_17_x86_64.manylinux2014_x86_64.whl (199 kB)\n",
            "\u001b[2K     \u001b[90m━━━━━━━━━━━━━━━━━━━━━━━━━━━━━━━━━━━━━━\u001b[0m \u001b[32m199.2/199.2 KB\u001b[0m \u001b[31m15.9 MB/s\u001b[0m eta \u001b[36m0:00:00\u001b[0m\n",
            "\u001b[?25hCollecting async-timeout<5.0,>=4.0.0a3\n",
            "  Downloading async_timeout-4.0.2-py3-none-any.whl (5.8 kB)\n",
            "Requirement already satisfied: attrs>=17.3.0 in /usr/local/lib/python3.9/dist-packages (from aiohttp->datasets) (22.2.0)\n",
            "Collecting yarl<2.0,>=1.0\n",
            "  Downloading yarl-1.8.2-cp39-cp39-manylinux_2_17_x86_64.manylinux2014_x86_64.whl (264 kB)\n",
            "\u001b[2K     \u001b[90m━━━━━━━━━━━━━━━━━━━━━━━━━━━━━━━━━━━━━━\u001b[0m \u001b[32m264.6/264.6 KB\u001b[0m \u001b[31m18.8 MB/s\u001b[0m eta \u001b[36m0:00:00\u001b[0m\n",
            "\u001b[?25hCollecting aiosignal>=1.1.2\n",
            "  Downloading aiosignal-1.3.1-py3-none-any.whl (7.6 kB)\n",
            "Collecting frozenlist>=1.1.1\n",
            "  Downloading frozenlist-1.3.3-cp39-cp39-manylinux_2_5_x86_64.manylinux1_x86_64.manylinux_2_17_x86_64.manylinux2014_x86_64.whl (158 kB)\n",
            "\u001b[2K     \u001b[90m━━━━━━━━━━━━━━━━━━━━━━━━━━━━━━━━━━━━━━\u001b[0m \u001b[32m158.8/158.8 KB\u001b[0m \u001b[31m11.6 MB/s\u001b[0m eta \u001b[36m0:00:00\u001b[0m\n",
            "\u001b[?25hRequirement already satisfied: typing-extensions>=3.7.4.3 in /usr/local/lib/python3.9/dist-packages (from huggingface-hub<1.0,>=0.11.0->transformers) (4.5.0)\n",
            "Requirement already satisfied: idna<3,>=2.5 in /usr/local/lib/python3.9/dist-packages (from requests->transformers) (2.10)\n",
            "Requirement already satisfied: urllib3<1.27,>=1.21.1 in /usr/local/lib/python3.9/dist-packages (from requests->transformers) (1.26.14)\n",
            "Requirement already satisfied: chardet<5,>=3.0.2 in /usr/local/lib/python3.9/dist-packages (from requests->transformers) (4.0.0)\n",
            "Requirement already satisfied: certifi>=2017.4.17 in /usr/local/lib/python3.9/dist-packages (from requests->transformers) (2022.12.7)\n",
            "Requirement already satisfied: pytz>=2017.3 in /usr/local/lib/python3.9/dist-packages (from pandas->datasets) (2022.7.1)\n",
            "Requirement already satisfied: python-dateutil>=2.7.3 in /usr/local/lib/python3.9/dist-packages (from pandas->datasets) (2.8.2)\n",
            "Requirement already satisfied: six>=1.5 in /usr/local/lib/python3.9/dist-packages (from python-dateutil>=2.7.3->pandas->datasets) (1.15.0)\n",
            "Installing collected packages: tokenizers, xxhash, multidict, frozenlist, dill, charset-normalizer, async-timeout, yarl, responses, multiprocess, huggingface-hub, aiosignal, transformers, aiohttp, datasets\n",
            "Successfully installed aiohttp-3.8.4 aiosignal-1.3.1 async-timeout-4.0.2 charset-normalizer-3.1.0 datasets-2.10.1 dill-0.3.6 frozenlist-1.3.3 huggingface-hub-0.13.1 multidict-6.0.4 multiprocess-0.70.14 responses-0.18.0 tokenizers-0.13.2 transformers-4.26.1 xxhash-3.2.0 yarl-1.8.2\n"
          ]
        }
      ],
      "source": [
        "import numpy as np\n",
        "from sklearn.feature_extraction.text import TfidfVectorizer\n",
        "from sklearn.metrics.pairwise import cosine_similarity\n",
        "import json\n",
        "from collections import Counter\n",
        "from sklearn.model_selection import train_test_split\n",
        "import spacy\n",
        "from scipy.sparse import csr_matrix\n",
        "from scipy.spatial.distance import euclidean\n",
        "from scipy.spatial.distance import cosine\n",
        "from math import log\n",
        "from sklearn.dummy import DummyClassifier\n",
        "from sklearn.metrics import accuracy_score, precision_recall_fscore_support\n",
        "import pandas as pd\n",
        "import matplotlib.pyplot as plt\n",
        "import random\n",
        "from sklearn.feature_extraction.text import CountVectorizer\n",
        "from sklearn.svm import SVC\n",
        "from sklearn.metrics import confusion_matrix\n",
        "from sklearn.linear_model import LogisticRegression\n",
        "from sklearn.naive_bayes import MultinomialNB\n",
        "\n",
        "from sklearn.feature_extraction.text import TfidfVectorizer\n",
        "from sklearn.linear_model import LogisticRegression\n",
        "from sklearn.model_selection import GridSearchCV\n",
        "import torch\n",
        "from sklearn.pipeline import Pipeline\n",
        "\n",
        "!pip install transformers datasets\n",
        "from transformers import pipeline, RobertaTokenizer, RobertaModel"
      ]
    },
    {
      "cell_type": "markdown",
      "metadata": {
        "id": "-_NPSFetCm83"
      },
      "source": [
        "#### Single example of data"
      ]
    },
    {
      "cell_type": "code",
      "execution_count": null,
      "metadata": {
        "colab": {
          "base_uri": "https://localhost:8080/"
        },
        "id": "Aguhb1KQVPpN",
        "outputId": "4d7bd541-f7f9-4517-e648-bd5758787310"
      },
      "outputs": [
        {
          "data": {
            "text/plain": [
              "{'subreddit': 'Soda',\n",
              " 'title': 'Anyone tried Irn Bru?',\n",
              " 'score': 8,\n",
              " 'id': 'ou5yp1',\n",
              " 'author': 'jackibhoy',\n",
              " 'body': 'It’s a Scottish drink and it’s banned some countries and I was wondering if anyone here has tried it. It has quite a unique taste and it’s not something you’d forget quickly. You either love it or hate it I think.'}"
            ]
          },
          "execution_count": 4,
          "metadata": {},
          "output_type": "execute_result"
        }
      ],
      "source": [
        "# Load the data into Python\n",
        "with open('reddit_posts.json', 'rt') as f:\n",
        "  reddit_posts = json.load(f)\n",
        "reddit_posts[0]"
      ]
    },
    {
      "cell_type": "markdown",
      "metadata": {
        "id": "Bmv_k6bUCwJu"
      },
      "source": [
        "#### Basic information of data"
      ]
    },
    {
      "cell_type": "code",
      "execution_count": null,
      "metadata": {
        "colab": {
          "base_uri": "https://localhost:8080/"
        },
        "id": "T8OOFZ6MYioJ",
        "outputId": "bae47215-1a30-46db-9e93-6a9ef724c595"
      },
      "outputs": [
        {
          "name": "stdout",
          "output_type": "stream",
          "text": [
            "type(reddit_posts) = <class 'list'>\n",
            "len(reddit_posts) = 2000\n",
            "type(reddit_posts[0]) = <class 'dict'>\n",
            "reddit_posts[0].keys() = dict_keys(['subreddit', 'title', 'score', 'id', 'author', 'body'])\n"
          ]
        }
      ],
      "source": [
        "# Investigate the structure of the data\n",
        "print('type(reddit_posts) =', type(reddit_posts))\n",
        "print('len(reddit_posts) =', len(reddit_posts))\n",
        "print('type(reddit_posts[0]) =', type(reddit_posts[0]))\n",
        "print('reddit_posts[0].keys() =', reddit_posts[0].keys())"
      ]
    },
    {
      "cell_type": "markdown",
      "metadata": {
        "id": "1XR-98_SY25B"
      },
      "source": [
        "#### I will use subreddit as labels to classify the text in the body section."
      ]
    },
    {
      "cell_type": "code",
      "execution_count": null,
      "metadata": {
        "colab": {
          "base_uri": "https://localhost:8080/"
        },
        "id": "gm-gRaXQY9iB",
        "outputId": "9b2fb7f0-ae90-4317-a6c6-2d8710d0bd5f"
      },
      "outputs": [
        {
          "data": {
            "text/plain": [
              "Counter({'Soda': 174,\n",
              "         'tea': 236,\n",
              "         'xbox': 213,\n",
              "         'antiMLM': 226,\n",
              "         'HydroHomies': 210,\n",
              "         'pcgaming': 225,\n",
              "         'NintendoSwitch': 249,\n",
              "         'Coffee': 234,\n",
              "         'PS4': 233})"
            ]
          },
          "execution_count": 6,
          "metadata": {},
          "output_type": "execute_result"
        }
      ],
      "source": [
        "# Count the number of times each subreddit appears in this dataset\n",
        "sub_counter = Counter(post['subreddit'] for post in reddit_posts)\n",
        "sub_counter"
      ]
    },
    {
      "cell_type": "markdown",
      "metadata": {
        "id": "qGUaVd1LC7je"
      },
      "source": [
        "#### Create two lists (texts, labels)."
      ]
    },
    {
      "cell_type": "code",
      "execution_count": null,
      "metadata": {
        "colab": {
          "base_uri": "https://localhost:8080/"
        },
        "id": "GhkpJ1YCT-qM",
        "outputId": "c6a8526c-885e-4468-d258-8b7353fe5b2c"
      },
      "outputs": [
        {
          "name": "stdout",
          "output_type": "stream",
          "text": [
            "HydroHomies\n",
            "------------\n",
            "I’m new to reddit and this sub just confuses me.\n",
            "Can someone explain why this sub exists? How is the sub about water so popular?\n"
          ]
        }
      ],
      "source": [
        "labels, texts = [], []\n",
        "for i in reddit_posts:\n",
        "  labels.append(i['subreddit'])\n",
        "  texts.append( i['title'] + '\\n' + i['body'] )\n",
        "\n",
        "# labels = np.array(labels)\n",
        "# texts = np.array(texts)\n",
        "print(labels[-1]) # shape is  2000,\n",
        "print(\"------------\")\n",
        "print(texts[-1]) # shape is 2000,"
      ]
    },
    {
      "cell_type": "markdown",
      "metadata": {
        "id": "1h3u09DxgrND"
      },
      "source": [
        "#### Shuffle the two lists"
      ]
    },
    {
      "cell_type": "code",
      "execution_count": null,
      "metadata": {
        "id": "tgGRqhpFgvZz"
      },
      "outputs": [],
      "source": [
        "combined = list(zip(texts, labels))  # combine the lists\n",
        "random.shuffle(combined)           # shuffle the combined list\n",
        "texts, labels = zip(*combined)  # separate the lists back out\n",
        "\n",
        "# print(texts)\n",
        "# print(labels)"
      ]
    },
    {
      "cell_type": "markdown",
      "metadata": {
        "id": "v0HHUqjNCaKv"
      },
      "source": [
        "#### Split the data into training (60%), validation(20%) and testing dataset(20%)."
      ]
    },
    {
      "cell_type": "code",
      "execution_count": null,
      "metadata": {
        "id": "YOdyjTA_CZdf"
      },
      "outputs": [],
      "source": [
        "# Your code here\n",
        "labels_train, labels_test, texts_train, texts_test = train_test_split(\n",
        "    labels, texts, test_size = 0.2, random_state = 42\n",
        ")\n",
        "\n",
        "labels_train, labels_val, texts_train, texts_val = train_test_split(\n",
        "    labels_train, texts_train, test_size = 0.25, random_state = 42\n",
        ")"
      ]
    },
    {
      "cell_type": "markdown",
      "metadata": {
        "id": "tDY8EzzDEDfQ"
      },
      "source": [
        "#### Check the size of the different parts after the split."
      ]
    },
    {
      "cell_type": "code",
      "execution_count": null,
      "metadata": {
        "colab": {
          "base_uri": "https://localhost:8080/"
        },
        "id": "TaNPRPR1D_tb",
        "outputId": "5eb976fb-d1cd-4d0e-f11a-4ec05d352781"
      },
      "outputs": [
        {
          "name": "stdout",
          "output_type": "stream",
          "text": [
            "len(texts_train)=1200\tlen(labels_train)=1200\n",
            "len(texts_val)=400\tlen(labels_val)=400\n",
            "len(texts_test)=400\tlen(labels_test)=400\n"
          ]
        }
      ],
      "source": [
        "print(f\"{len(texts_train)=}\\t{len(labels_train)=}\")\n",
        "print(f\"{len(texts_val)=}\\t{len(labels_val)=}\")\n",
        "print(f\"{len(texts_test)=}\\t{len(labels_test)=}\")"
      ]
    },
    {
      "cell_type": "markdown",
      "metadata": {
        "id": "aBLZcbtvFShv"
      },
      "source": [
        "#### And let's check if we got the desired 60%/20%/20% split."
      ]
    },
    {
      "cell_type": "code",
      "execution_count": null,
      "metadata": {
        "colab": {
          "base_uri": "https://localhost:8080/"
        },
        "id": "0c6VV0RZFTE2",
        "outputId": "cac77bc4-97cc-42e4-91b3-01dbfaf9ab4f"
      },
      "outputs": [
        {
          "data": {
            "text/plain": [
              "(0.6, 0.2, 0.2)"
            ]
          },
          "execution_count": 11,
          "metadata": {},
          "output_type": "execute_result"
        }
      ],
      "source": [
        "total = len(texts_train) + len(texts_val) + len(texts_test)\n",
        "len(texts_train)/total, len(texts_val)/total, len(texts_test)/total"
      ]
    },
    {
      "cell_type": "markdown",
      "metadata": {
        "id": "8HfkR_GlGO5x"
      },
      "source": [
        "## Q2 - Clustering"
      ]
    },
    {
      "cell_type": "markdown",
      "metadata": {
        "id": "prShOFgfq2OZ"
      },
      "source": [
        "#### Vectorise text"
      ]
    },
    {
      "cell_type": "code",
      "execution_count": null,
      "metadata": {
        "id": "jk6mzwzyq8MA"
      },
      "outputs": [],
      "source": [
        "nlp = spacy.load(\"en_core_web_sm\")"
      ]
    },
    {
      "cell_type": "code",
      "execution_count": null,
      "metadata": {
        "id": "gnmjFf-dq_85"
      },
      "outputs": [],
      "source": [
        "def text_pipeline_spacy(text):\n",
        "    tokens = []\n",
        "    doc = nlp(text)\n",
        "    for t in doc:\n",
        "        if not t.is_stop and not t.is_punct and not t.is_space:\n",
        "            tokens.append(t.lemma_.lower())\n",
        "    return tokens"
      ]
    },
    {
      "cell_type": "code",
      "execution_count": null,
      "metadata": {
        "colab": {
          "base_uri": "https://localhost:8080/"
        },
        "id": "KVik94n2teKz",
        "outputId": "8e0c0a15-4179-4fb1-ba45-93be65c5ca2d"
      },
      "outputs": [
        {
          "name": "stderr",
          "output_type": "stream",
          "text": [
            "/usr/local/lib/python3.9/dist-packages/sklearn/feature_extraction/text.py:528: UserWarning: The parameter 'token_pattern' will not be used since 'tokenizer' is not None'\n",
            "  warnings.warn(\n"
          ]
        }
      ],
      "source": [
        "# Vectorise text\n",
        "vectorizer = TfidfVectorizer(tokenizer = text_pipeline_spacy)\n",
        "tf_idf = vectorizer.fit_transform(texts)\n",
        "# (2000, 9752)"
      ]
    },
    {
      "cell_type": "markdown",
      "metadata": {
        "id": "et2VwSDNzsUi"
      },
      "source": [
        "#### Kmeans function"
      ]
    },
    {
      "cell_type": "code",
      "execution_count": null,
      "metadata": {
        "id": "stCcdQ2zkm4r"
      },
      "outputs": [],
      "source": [
        "def k_means_clustering(tf_idf, labels, k=5, max_iterations=1000, tolerance=1e-6):\n",
        "\n",
        "    labels = np.array(labels)\n",
        "    \n",
        "    # Pick k random \"centroids\"\n",
        "    random_indices = np.random.choice(tf_idf.shape[0], size=k, replace=False)\n",
        "    centroids = tf_idf[random_indices].toarray()\n",
        "\n",
        "    for i in range(max_iterations):\n",
        "        # Assign each vector to its closest centroid using cosine similarity\n",
        "        similarities = cosine_similarity(tf_idf, centroids) # (2000, 5)\n",
        "        closest_centroids = np.argmax(similarities, axis=1) # (2000, )\n",
        "\n",
        "        ## Assign the label of the closest vector to each centroid to all the vectors in that cluster\n",
        "        new_labels = np.zeros_like(closest_centroids, dtype=object)\n",
        "        for c in range(k):\n",
        "            cluster_mask = (closest_centroids == c)\n",
        "            if np.sum(cluster_mask) > 0:\n",
        "                cluster_labels = labels[cluster_mask]\n",
        "                centroid_index = np.argmax(similarities[:, c])\n",
        "                centroid_label = labels[centroid_index]\n",
        "                new_labels[cluster_mask] = centroid_label\n",
        "        \n",
        "        # Recalculate the centroids based on the closest vectors\n",
        "        new_centroids = np.zeros((k, tf_idf.shape[1]))\n",
        "        for j in range(k):\n",
        "            mask = (closest_centroids == j)\n",
        "            if np.sum(mask) > 0:\n",
        "                new_centroids[j] = np.mean(tf_idf[mask].toarray(), axis=0)\n",
        "\n",
        "        # Check if centroids have converged\n",
        "        if np.allclose(centroids, new_centroids, atol=tolerance):\n",
        "            break\n",
        "        centroids = new_centroids\n",
        "    return closest_centroids, new_labels"
      ]
    },
    {
      "cell_type": "markdown",
      "metadata": {
        "id": "i7PqZvy5G7po"
      },
      "source": [
        "#### Check the output"
      ]
    },
    {
      "cell_type": "code",
      "execution_count": null,
      "metadata": {
        "colab": {
          "base_uri": "https://localhost:8080/"
        },
        "id": "cHl42gj94bja",
        "outputId": "12bc54a5-fbd2-4115-b635-58028f39af0e"
      },
      "outputs": [
        {
          "name": "stdout",
          "output_type": "stream",
          "text": [
            "Counter({1: 758, 0: 389, 3: 359, 2: 277, 4: 217})\n",
            "Counter({'xbox': 758, 'HydroHomies': 389, 'antiMLM': 359, 'Soda': 277, 'tea': 217})\n"
          ]
        }
      ],
      "source": [
        "closest_centroids, predicted_labels = k_means_clustering(tf_idf, labels, k=5)\n",
        "print(Counter(closest_centroids)) ## shape = (2000, )\n",
        "print(Counter(predicted_labels)) # shape = (2000, )\n",
        "# predicted_labels is a 1D array that assigns each document to a cluster based on the closest centroid"
      ]
    },
    {
      "cell_type": "markdown",
      "metadata": {
        "id": "5k3MY32fHBBA"
      },
      "source": [
        "#### Print a few examples of documents assigned to each cluster\n",
        "#### Print the top 5 tokens with the highest magnitude in each centroid"
      ]
    },
    {
      "cell_type": "code",
      "execution_count": null,
      "metadata": {
        "colab": {
          "base_uri": "https://localhost:8080/"
        },
        "id": "YkyKDNnMtENH",
        "outputId": "239c9a4a-cc08-459b-d90e-1ec75f508b27"
      },
      "outputs": [
        {
          "name": "stdout",
          "output_type": "stream",
          "text": [
            "Cluster 0:\n",
            "Doc 0: What’s your favorite kind of Bottled Water?\n",
            "Let me preface and say that I don’t seek out bottled water and my preferred source will always be filtered water from the tap. With that out of the way, I think Ice Mountain is easily the best out of the cheaper store brands like Dasani (overly minerally and kinda salty) or Aquafina which also has an overly strong mineral flavor imo.\n",
            "\n",
            "Cluster 1:\n",
            "Doc 4: Can i pay with both PayPal and Ps4 funds at the same time?\n",
            "So i want to buy a ps4 game which is 2.99$ but i only have 2.09$ added in funds... can i add those 90 cents that are missing with PayPal while still paying the 2.09$ with my funds and get the game?? Or does the money all have to come from one source\n",
            "\n",
            "Cluster 2:\n",
            "Doc 2: I hope y'all a proud of me\n",
            "Now I know some of y'all have been soda free for awhile but I just was in a gas station and was about to grab my go to soda... But then I was like... Nah and grabbed some H2O in a bottle. \n",
            "Ive been trying to reduce my intake of soda and increase my intake of H2O and one thing I have noticed is that the, wonderful, water tastes weird after I've drank soda so... How bout I just stop drinking soda. \n",
            "Anyway have a nice day\n",
            "\n",
            "Cluster 3:\n",
            "Doc 1: Thoughts on Rodan + Fields?\n",
            "I haven't seen this MLM pop up as much as Herbalife, LLR, Amway, etc. One of my roommates sells it (we've been living together less than a month and she's already invited me to three R+F \"parties\" and asked if I wanted to join twice... oof...). I'm not keen on supporting MLMs in general and the prices are outrageous ($104 for the Unblemish Acne treatment), but I'd like to have more solid reasons for saying no to her. Has anyone here tried the products? What did you think?\n",
            "​\n",
            "Edit: clarified that I haven't seen R+F AS MUCH as other popular MLMs because a few of y'all have no reading comprehension skills and need everything spelled out for you. Thanks to everyone that replied with helpful info :)\n",
            "\n",
            "Cluster 4:\n",
            "Doc 8: I’m thinking of getting some pine needle tea- does anyone have any experience with it?\n",
            "I quit drinking energy drinks about 6 months ago due and “incident” with my health- think small stroke- no sense then my caffeine has come mostly from teas. I know this tea has no caffeine but loads of other good vitamins and mineral, can anyone recommend a brand they tried and liked?\n",
            "\n",
            "Top tokens for Cluster 0:\n",
            "water: 0.11344113114979583\n",
            "coffee: 0.09103690108109176\n",
            "drink: 0.07262748355878763\n",
            "cup: 0.031003730004673453\n",
            "good: 0.0296242209584334\n",
            "\n",
            "Top tokens for Cluster 1:\n",
            "game: 0.09509664997496017\n",
            "play: 0.05376221905722568\n",
            "xbox: 0.040193068064858804\n",
            "switch: 0.03333362469429453\n",
            "series: 0.030776658957376146\n",
            "\n",
            "Top tokens for Cluster 2:\n",
            "soda: 0.0955738123742001\n",
            "find: 0.03867566736891921\n",
            "e: 0.028898829182432258\n",
            "buy: 0.027618241236484\n",
            "lido: 0.02509583769687135\n",
            "\n",
            "Top tokens for Cluster 3:\n",
            "mlm: 0.06490836033187906\n",
            "friend: 0.027553124821811444\n",
            "know: 0.026226172094130615\n",
            "people: 0.026047820801915502\n",
            "work: 0.025007566069514164\n",
            "\n",
            "Top tokens for Cluster 4:\n",
            "tea: 0.27690490220635894\n",
            "like: 0.034502006972647055\n",
            "try: 0.027143249381820285\n",
            "good: 0.026349116282082665\n",
            "drink: 0.024182613281374613\n",
            "\n"
          ]
        }
      ],
      "source": [
        "# Print a few examples of documents assigned to each cluster\n",
        "for cluster in range(5):\n",
        "    print(f\"Cluster {cluster}:\")\n",
        "    for i, label in enumerate(closest_centroids):\n",
        "        if label == cluster:\n",
        "            print(f\"Doc {i}: {texts[i]}\")\n",
        "            break\n",
        "    print()\n",
        "\n",
        "# Print the top 5 tokens with the highest magnitude in each centroid\n",
        "centroids = np.zeros((5, tf_idf.shape[1]))\n",
        "for i in range(5):\n",
        "    mask = (closest_centroids == i)\n",
        "    centroids[i] = np.mean(tf_idf[mask], axis=0)\n",
        "    top_tokens = np.argsort(centroids[i])[::-1][:5]\n",
        "    top_token_scores = centroids[i][top_tokens]\n",
        "    top_token_names = vectorizer.get_feature_names_out()[top_tokens]\n",
        "    print(f\"Top tokens for Cluster {i}:\")\n",
        "    for token, score in zip(top_token_names, top_token_scores):\n",
        "        print(f\"{token}: {score}\")\n",
        "    print()"
      ]
    },
    {
      "cell_type": "markdown",
      "metadata": {
        "id": "-gmNtwVrHJ9b"
      },
      "source": [
        "#### Compute the confusion matrix and print it"
      ]
    },
    {
      "cell_type": "code",
      "execution_count": null,
      "metadata": {
        "colab": {
          "base_uri": "https://localhost:8080/"
        },
        "id": "DTxg7zvMB06v",
        "outputId": "4fcd8e86-e018-4bc9-bf74-251c45d12811"
      },
      "outputs": [
        {
          "name": "stdout",
          "output_type": "stream",
          "text": [
            "Confusion matrix shape :(9, 5)\n",
            "[[  1. 174.  16.  42.   0.]\n",
            " [ 17.   0. 153.   3.   1.]\n",
            " [  3.   0.   3. 218.   2.]\n",
            " [  7.   0.  14.   2. 213.]\n",
            " [  1. 185.   8.  19.   0.]\n",
            " [  0. 219.  19.  11.   0.]\n",
            " [  1. 178.  17.  29.   0.]\n",
            " [182.   0.   9.  18.   1.]\n",
            " [177.   2.  38.  17.   0.]]\n"
          ]
        }
      ],
      "source": [
        "true_labels = np.array(labels).reshape(-1)\n",
        "\n",
        "# # Compute the confusion matrix between the predicted clusters and the true labels\n",
        "# cm = confusion_matrix(true_labels, closest_centroids)\n",
        "# closest_centroids  predicted_labels\n",
        "\n",
        "# create a dictionary to map labels to integers\n",
        "label_dict = {label: i for i, label in enumerate(set(true_labels))}\n",
        "\n",
        "# convert true labels to integers\n",
        "true_labels_int = [label_dict[label] for label in true_labels]\n",
        "\n",
        "all_labels = list(set(labels))\n",
        "cm = np.zeros((9,5))\n",
        "for i,j in zip(closest_centroids, true_labels_int):\n",
        "  cm[j][i]+=1\n",
        "\n",
        "# # Print the confusion matrix\n",
        "print(f\"Confusion matrix shape :{cm.shape}\")\n",
        "print(cm)"
      ]
    },
    {
      "cell_type": "code",
      "execution_count": null,
      "metadata": {
        "colab": {
          "base_uri": "https://localhost:8080/",
          "height": 279
        },
        "id": "9a-0VE11TCwA",
        "outputId": "f01728da-98e7-4b25-eab1-243348fdeaf7"
      },
      "outputs": [
        {
          "data": {
            "image/png": "[encoded data removed]",
            "text/plain": [
              "<Figure size 432x288 with 2 Axes>"
            ]
          },
          "metadata": {
            "needs_background": "light"
          },
          "output_type": "display_data"
        }
      ],
      "source": [
        "from sklearn.metrics import confusion_matrix, precision_recall_fscore_support, accuracy_score\n",
        "import seaborn as sns\n",
        "import matplotlib.pyplot as plt\n",
        "\n",
        "# y_true = labels_test_encoded\n",
        "# label_keys = label_encoder.classes_\n",
        "\n",
        "# # Compute the confusion matrix\n",
        "# cm = confusion_matrix(y_true, label_ids)\n",
        "\n",
        "# Plot the confusion matrix as a heatmap\n",
        "sns.heatmap(cm, annot=True, cmap='Blues', fmt='g', xticklabels=list(range(5)), yticklabels=all_labels)\n",
        "plt.xlabel('Predicted labels')\n",
        "plt.ylabel('True labels')\n",
        "plt.show()"
      ]
    },
    {
      "cell_type": "markdown",
      "metadata": {
        "id": "xrDFWkjfHWIA"
      },
      "source": [
        "## Q3 - Comparing Classifiers"
      ]
    },
    {
      "cell_type": "markdown",
      "metadata": {
        "id": "2c9zuaxBmO_h"
      },
      "source": [
        "#### 1. Dummy Classifier with strategy=\"most_frequent\" "
      ]
    },
    {
      "cell_type": "code",
      "execution_count": null,
      "metadata": {
        "colab": {
          "base_uri": "https://localhost:8080/"
        },
        "id": "dYcT5EwFHbhv",
        "outputId": "49b65a6c-bc26-41b5-87e4-884654150827"
      },
      "outputs": [
        {
          "name": "stdout",
          "output_type": "stream",
          "text": [
            "            Accuracy  Precision  Recall     F1\n",
            "Training       0.127      0.903   0.111  0.025\n",
            "Validation     0.102      0.900   0.111  0.021\n"
          ]
        },
        {
          "data": {
            "image/png": "[encoded data removed]",
            "text/plain": [
              "<Figure size 1296x360 with 1 Axes>"
            ]
          },
          "metadata": {
            "needs_background": "light"
          },
          "output_type": "display_data"
        }
      ],
      "source": [
        "# Instantiate the classifier with \"most_frequent\" strategy\n",
        "dummy_clf = DummyClassifier(strategy=\"most_frequent\")\n",
        "\n",
        "# Fit the classifier on the training data\n",
        "dummy_clf.fit(texts_train, labels_train)\n",
        "\n",
        "# Make predictions on the training set\n",
        "y_train_pred = dummy_clf.predict(texts_train)\n",
        "\n",
        "# Evaluate the performance of the classifier on the training set\n",
        "train_accuracy = accuracy_score(labels_train, y_train_pred)\n",
        "train_precision, train_recall, train_f1, _ = precision_recall_fscore_support(labels_train, y_train_pred, average=\"macro\", zero_division=1)\n",
        "\n",
        "# Make predictions on the validation set\n",
        "y_val_pred = dummy_clf.predict(texts_val)\n",
        "\n",
        "# Evaluate the performance of the classifier on the validation set\n",
        "val_accuracy = accuracy_score(labels_val, y_val_pred)\n",
        "val_precision, val_recall, val_f1, _ = precision_recall_fscore_support(labels_val, y_val_pred, average=\"macro\", zero_division=1)\n",
        "\n",
        "# Get the validation performance\n",
        "test_accuracy = accuracy_score(labels_val, y_val_pred)\n",
        "test_precision, test_recall, test_f1, _ = precision_recall_fscore_support(labels_val, y_val_pred, average=\"macro\", zero_division=1)\n",
        "most_frequent_test = [test_accuracy, test_precision, test_recall, test_f1]\n",
        "\n",
        "# Create a table with the evaluation metrics\n",
        "data = {\"Accuracy\": [train_accuracy, val_accuracy],\n",
        "        \"Precision\": [train_precision, val_precision],\n",
        "        \"Recall\": [train_recall, val_recall],\n",
        "        \"F1\": [train_f1, val_f1]}\n",
        "index = [\"Training\", \"Validation\"]\n",
        "df = pd.DataFrame(data, index=index)\n",
        "df = df.round(3)\n",
        "print(df)\n",
        "\n",
        "# Create a bar chart with the F1 score for each class\n",
        "y_classes = list(set(labels_val))\n",
        "y_f1 = []\n",
        "for label in y_classes:\n",
        "    _, _, f1, _ = precision_recall_fscore_support(labels_val, y_val_pred, labels=[label], average=\"macro\", zero_division=1)\n",
        "    y_f1.append(f1)\n",
        "\n",
        "\n",
        "plt.figure(figsize=(18, 5))\n",
        "plt.bar(y_classes, y_f1)\n",
        "plt.title(\"F1 Score for Each Class\")\n",
        "plt.xlabel(\"Classes\")\n",
        "plt.ylabel(\"F1 Score\")\n",
        "plt.show()\n"
      ]
    },
    {
      "cell_type": "markdown",
      "metadata": {
        "id": "VCUB2EKe7vHj"
      },
      "source": [
        "#### Dummy Classifier with strategy=\"stratified\""
      ]
    },
    {
      "cell_type": "code",
      "execution_count": null,
      "metadata": {
        "colab": {
          "base_uri": "https://localhost:8080/"
        },
        "id": "N975pdRE6mmr",
        "outputId": "993a78fb-a7a4-44d3-af16-9450b17e77e4"
      },
      "outputs": [
        {
          "name": "stdout",
          "output_type": "stream",
          "text": [
            "            Accuracy  Precision  Recall     F1\n",
            "Training       0.101      0.099   0.099  0.099\n",
            "Validation     0.112      0.112   0.108  0.109\n"
          ]
        },
        {
          "data": {
            "image/png": "[encoded data removed]",
            "text/plain": [
              "<Figure size 1296x360 with 1 Axes>"
            ]
          },
          "metadata": {
            "needs_background": "light"
          },
          "output_type": "display_data"
        }
      ],
      "source": [
        "# Create a Dummy Classifier with strategy=\"stratified\"\n",
        "dummy_clf = DummyClassifier(strategy=\"stratified\")\n",
        "\n",
        "# Train the Dummy Classifier on the training set\n",
        "dummy_clf.fit(texts_train, labels_train)\n",
        "\n",
        "# Make predictions on the training set\n",
        "y_train_pred = dummy_clf.predict(texts_train)\n",
        "\n",
        "# Evaluate the performance of the classifier on the training set\n",
        "train_accuracy = accuracy_score(labels_train, y_train_pred)\n",
        "train_precision, train_recall, train_f1, _ = precision_recall_fscore_support(labels_train, y_train_pred, average=\"macro\", zero_division=1)\n",
        "\n",
        "# Make predictions on the validation set\n",
        "y_val_pred = dummy_clf.predict(texts_val)\n",
        "\n",
        "# Evaluate the performance of the classifier on the validation set\n",
        "val_accuracy = accuracy_score(labels_val, y_val_pred)\n",
        "val_precision, val_recall, val_f1, _ = precision_recall_fscore_support(labels_val, y_val_pred, average=\"macro\", zero_division=1)\n",
        "\n",
        "# Get the validation performance\n",
        "test_accuracy = accuracy_score(labels_val, y_val_pred)\n",
        "test_precision, test_recall, test_f1, _ = precision_recall_fscore_support(labels_val, y_val_pred, average=\"macro\", zero_division=1)\n",
        "stratified_test = [test_accuracy, test_precision, test_recall, test_f1]\n",
        "\n",
        "# Create a table with the evaluation metrics\n",
        "data = {\"Accuracy\": [train_accuracy, val_accuracy],\n",
        "        \"Precision\": [train_precision, val_precision],\n",
        "        \"Recall\": [train_recall, val_recall],\n",
        "        \"F1\": [train_f1, val_f1]}\n",
        "index = [\"Training\", \"Validation\"]\n",
        "df = pd.DataFrame(data, index=index)\n",
        "df = df.round(3)\n",
        "print(df)\n",
        "\n",
        "# Create a bar chart of F1 scores for each class\n",
        "f1_scores = precision_recall_fscore_support(labels_val, y_val_pred, average=None)[2]\n",
        "classes = list(set(labels_val))\n",
        "plt.figure(figsize=(18, 5))\n",
        "plt.bar(classes, f1_scores)\n",
        "plt.xlabel(\"Class\")\n",
        "plt.ylabel(\"F1 Score\")\n",
        "plt.title(\"F1 Scores by Class\")\n",
        "plt.show()"
      ]
    },
    {
      "cell_type": "markdown",
      "metadata": {
        "id": "m8HgomJrNovW"
      },
      "source": [
        "#### LogisticRegression with One-hot vectorization"
      ]
    },
    {
      "cell_type": "code",
      "execution_count": null,
      "metadata": {
        "id": "a0Dhr_ESVI-v"
      },
      "outputs": [],
      "source": [
        "# Vectorize the training and validation texts using One-hot vectorization:\n",
        "vectorizer = CountVectorizer(binary=True)\n",
        "X_train = vectorizer.fit_transform(texts_train)\n",
        "X_val = vectorizer.transform(texts_val)"
      ]
    },
    {
      "cell_type": "code",
      "execution_count": null,
      "metadata": {
        "colab": {
          "base_uri": "https://localhost:8080/"
        },
        "id": "u-PCbPBOVXqP",
        "outputId": "f42f265e-b886-4301-8771-ea4177525aba"
      },
      "outputs": [
        {
          "data": {
            "text/html": [
              "<style>#sk-container-id-1 {color: black;background-color: white;}#sk-container-id-1 pre{padding: 0;}#sk-container-id-1 div.sk-toggleable {background-color: white;}#sk-container-id-1 label.sk-toggleable__label {cursor: pointer;display: block;width: 100%;margin-bottom: 0;padding: 0.3em;box-sizing: border-box;text-align: center;}#sk-container-id-1 label.sk-toggleable__label-arrow:before {content: \"▸\";float: left;margin-right: 0.25em;color: #696969;}#sk-container-id-1 label.sk-toggleable__label-arrow:hover:before {color: black;}#sk-container-id-1 div.sk-estimator:hover label.sk-toggleable__label-arrow:before {color: black;}#sk-container-id-1 div.sk-toggleable__content {max-height: 0;max-width: 0;overflow: hidden;text-align: left;background-color: #f0f8ff;}#sk-container-id-1 div.sk-toggleable__content pre {margin: 0.2em;color: black;border-radius: 0.25em;background-color: #f0f8ff;}#sk-container-id-1 input.sk-toggleable__control:checked~div.sk-toggleable__content {max-height: 200px;max-width: 100%;overflow: auto;}#sk-container-id-1 input.sk-toggleable__control:checked~label.sk-toggleable__label-arrow:before {content: \"▾\";}#sk-container-id-1 div.sk-estimator input.sk-toggleable__control:checked~label.sk-toggleable__label {background-color: #d4ebff;}#sk-container-id-1 div.sk-label input.sk-toggleable__control:checked~label.sk-toggleable__label {background-color: #d4ebff;}#sk-container-id-1 input.sk-hidden--visually {border: 0;clip: rect(1px 1px 1px 1px);clip: rect(1px, 1px, 1px, 1px);height: 1px;margin: -1px;overflow: hidden;padding: 0;position: absolute;width: 1px;}#sk-container-id-1 div.sk-estimator {font-family: monospace;background-color: #f0f8ff;border: 1px dotted black;border-radius: 0.25em;box-sizing: border-box;margin-bottom: 0.5em;}#sk-container-id-1 div.sk-estimator:hover {background-color: #d4ebff;}#sk-container-id-1 div.sk-parallel-item::after {content: \"\";width: 100%;border-bottom: 1px solid gray;flex-grow: 1;}#sk-container-id-1 div.sk-label:hover label.sk-toggleable__label {background-color: #d4ebff;}#sk-container-id-1 div.sk-serial::before {content: \"\";position: absolute;border-left: 1px solid gray;box-sizing: border-box;top: 0;bottom: 0;left: 50%;z-index: 0;}#sk-container-id-1 div.sk-serial {display: flex;flex-direction: column;align-items: center;background-color: white;padding-right: 0.2em;padding-left: 0.2em;position: relative;}#sk-container-id-1 div.sk-item {position: relative;z-index: 1;}#sk-container-id-1 div.sk-parallel {display: flex;align-items: stretch;justify-content: center;background-color: white;position: relative;}#sk-container-id-1 div.sk-item::before, #sk-container-id-1 div.sk-parallel-item::before {content: \"\";position: absolute;border-left: 1px solid gray;box-sizing: border-box;top: 0;bottom: 0;left: 50%;z-index: -1;}#sk-container-id-1 div.sk-parallel-item {display: flex;flex-direction: column;z-index: 1;position: relative;background-color: white;}#sk-container-id-1 div.sk-parallel-item:first-child::after {align-self: flex-end;width: 50%;}#sk-container-id-1 div.sk-parallel-item:last-child::after {align-self: flex-start;width: 50%;}#sk-container-id-1 div.sk-parallel-item:only-child::after {width: 0;}#sk-container-id-1 div.sk-dashed-wrapped {border: 1px dashed gray;margin: 0 0.4em 0.5em 0.4em;box-sizing: border-box;padding-bottom: 0.4em;background-color: white;}#sk-container-id-1 div.sk-label label {font-family: monospace;font-weight: bold;display: inline-block;line-height: 1.2em;}#sk-container-id-1 div.sk-label-container {text-align: center;}#sk-container-id-1 div.sk-container {/* jupyter's `normalize.less` sets `[hidden] { display: none; }` but bootstrap.min.css set `[hidden] { display: none !important; }` so we also need the `!important` here to be able to override the default hidden behavior on the sphinx rendered scikit-learn.org. See: https://github.com/scikit-learn/scikit-learn/issues/21755 */display: inline-block !important;position: relative;}#sk-container-id-1 div.sk-text-repr-fallback {display: none;}</style><div id=\"sk-container-id-1\" class=\"sk-top-container\"><div class=\"sk-text-repr-fallback\"><pre>LogisticRegression()</pre><b>In a Jupyter environment, please rerun this cell to show the HTML representation or trust the notebook. <br />On GitHub, the HTML representation is unable to render, please try loading this page with nbviewer.org.</b></div><div class=\"sk-container\" hidden><div class=\"sk-item\"><div class=\"sk-estimator sk-toggleable\"><input class=\"sk-toggleable__control sk-hidden--visually\" id=\"sk-estimator-id-1\" type=\"checkbox\" checked><label for=\"sk-estimator-id-1\" class=\"sk-toggleable__label sk-toggleable__label-arrow\">LogisticRegression</label><div class=\"sk-toggleable__content\"><pre>LogisticRegression()</pre></div></div></div></div></div>"
            ],
            "text/plain": [
              "LogisticRegression()"
            ]
          },
          "execution_count": 23,
          "metadata": {},
          "output_type": "execute_result"
        }
      ],
      "source": [
        "# Train the LogisticRegression model:\n",
        "clf = LogisticRegression()\n",
        "clf.fit(X_train, labels_train)"
      ]
    },
    {
      "cell_type": "code",
      "execution_count": null,
      "metadata": {
        "id": "bR1uVT3tVgH4"
      },
      "outputs": [],
      "source": [
        "# Evaluate the model on the validation set and calculate the evaluation metrics:\n",
        "y_val_pred = clf.predict(X_val)\n",
        "val_accuracy = accuracy_score(labels_val, y_val_pred)\n",
        "val_precision, val_recall, val_f1, _ = precision_recall_fscore_support(labels_val, y_val_pred, average='macro', zero_division=1)\n",
        "\n",
        "# Evaluate the model on the training set and calculate the evaluation metrics:\n",
        "y_train_pred = clf.predict(X_train)\n",
        "train_accuracy = accuracy_score(labels_train, y_train_pred)\n",
        "train_precision, train_recall, train_f1, _ = precision_recall_fscore_support(labels_train, y_train_pred, average='macro', zero_division=1)\n",
        "\n",
        "# Get the test performance\n",
        "# X_test = vectorizer.transform(texts_test)\n",
        "# y_test_pred = clf.predict(X_test)\n",
        "test_accuracy = accuracy_score(labels_val, y_val_pred)\n",
        "test_precision, test_recall, test_f1, _ = precision_recall_fscore_support(labels_val, y_val_pred, average=\"macro\", zero_division=1)\n",
        "LR_onehot_test = [test_accuracy, test_precision, test_recall, test_f1]"
      ]
    },
    {
      "cell_type": "code",
      "execution_count": null,
      "metadata": {
        "colab": {
          "base_uri": "https://localhost:8080/"
        },
        "id": "5JTgPqPCXYxR",
        "outputId": "dfe605da-94d8-4569-8288-63b0b4360304"
      },
      "outputs": [
        {
          "name": "stdout",
          "output_type": "stream",
          "text": [
            "            Accuracy  Precision  Recall     F1\n",
            "Training       1.000      1.000   1.000  1.000\n",
            "Validation     0.805      0.807   0.804  0.801\n"
          ]
        },
        {
          "data": {
            "image/png": "[encoded data removed]",
            "text/plain": [
              "<Figure size 1296x360 with 1 Axes>"
            ]
          },
          "metadata": {
            "needs_background": "light"
          },
          "output_type": "display_data"
        }
      ],
      "source": [
        "# Create a table with the evaluation metrics\n",
        "data = {\"Accuracy\": [train_accuracy, val_accuracy],\n",
        "        \"Precision\": [train_precision, val_precision],\n",
        "        \"Recall\": [train_recall, val_recall],\n",
        "        \"F1\": [train_f1, val_f1]}\n",
        "index = [\"Training\", \"Validation\"]\n",
        "df = pd.DataFrame(data, index=index)\n",
        "df = df.round(3)\n",
        "print(df)\n",
        "\n",
        "# Create a bar chart of F1 scores for each class\n",
        "f1_scores = precision_recall_fscore_support(labels_val, y_val_pred, average=None)[2]\n",
        "classes = list(set(labels_val))\n",
        "plt.figure(figsize=(18, 5))\n",
        "plt.bar(classes, f1_scores)\n",
        "plt.xlabel(\"Class\")\n",
        "plt.ylabel(\"F1 Score\")\n",
        "plt.title(\"F1 Scores by Class\")\n",
        "plt.show()"
      ]
    },
    {
      "cell_type": "markdown",
      "metadata": {
        "id": "rbwfaZ4FUF_x"
      },
      "source": [
        "#### LogisticRegression with TF-IDF vectorization"
      ]
    },
    {
      "cell_type": "code",
      "execution_count": null,
      "metadata": {
        "colab": {
          "base_uri": "https://localhost:8080/"
        },
        "id": "od6P-sNNUM6A",
        "outputId": "f9947c26-26e5-428d-83c9-c98bd8feed62"
      },
      "outputs": [
        {
          "name": "stdout",
          "output_type": "stream",
          "text": [
            "            Accuracy  Precision  Recall     F1\n",
            "Training       0.992      0.992   0.991  0.992\n",
            "Validation     0.812      0.830   0.808  0.812\n"
          ]
        },
        {
          "data": {
            "image/png": "[encoded data removed]",
            "text/plain": [
              "<Figure size 1296x360 with 1 Axes>"
            ]
          },
          "metadata": {
            "needs_background": "light"
          },
          "output_type": "display_data"
        }
      ],
      "source": [
        "# Vectorize the texts\n",
        "tfidf = TfidfVectorizer()\n",
        "X_train = tfidf.fit_transform(texts_train)\n",
        "X_val = tfidf.transform(texts_val)\n",
        "\n",
        "# Train a Logistic Regression classifier\n",
        "lr = LogisticRegression(max_iter=1000)\n",
        "lr.fit(X_train, labels_train)\n",
        "\n",
        "# Predict labels for validation set and evaluate the model on the validation set and calculate the evaluation metrics:\n",
        "y_val_pred = lr.predict(X_val)\n",
        "val_accuracy = accuracy_score(labels_val, y_val_pred)\n",
        "val_precision, val_recall, val_f1, _ = precision_recall_fscore_support(labels_val, y_val_pred, average='macro', zero_division=1)\n",
        "\n",
        "# Predict labels ofr training set and evaluate the model on it then calculate the evaluation metrics:\n",
        "y_train_pred = lr.predict(X_train)\n",
        "train_accuracy = accuracy_score(labels_train, y_train_pred)\n",
        "train_precision, train_recall, train_f1, _ = precision_recall_fscore_support(labels_train, y_train_pred, average='macro', zero_division=1)\n",
        "\n",
        "# Get the test performance\n",
        "# X_test = tfidf.transform(texts_test)\n",
        "# y_test_pred = lr.predict(X_test)\n",
        "test_accuracy = accuracy_score(labels_val, y_val_pred)\n",
        "test_precision, test_recall, test_f1, _ = precision_recall_fscore_support(labels_val, y_val_pred, average=\"macro\", zero_division=1)\n",
        "LR_TFIDF_test = [test_accuracy, test_precision, test_recall, test_f1]\n",
        "\n",
        "# Create a table with the evaluation metrics\n",
        "data = {\"Accuracy\": [train_accuracy, val_accuracy],\n",
        "        \"Precision\": [train_precision, val_precision],\n",
        "        \"Recall\": [train_recall, val_recall],\n",
        "        \"F1\": [train_f1, val_f1]}\n",
        "index = [\"Training\", \"Validation\"]\n",
        "df = pd.DataFrame(data, index=index)\n",
        "df = df.round(3)\n",
        "print(df)\n",
        "\n",
        "# Create a bar chart of F1 scores for each class\n",
        "f1_scores = precision_recall_fscore_support(labels_val, y_val_pred, average=None)[2]\n",
        "classes = np.unique(labels_val)\n",
        "plt.figure(figsize=(18, 5))\n",
        "plt.bar(classes, f1_scores)\n",
        "plt.title(\"F1 Scores by Class\")\n",
        "plt.xlabel(\"Class\")\n",
        "plt.ylabel(\"F1 Score\")\n",
        "plt.show()\n"
      ]
    },
    {
      "cell_type": "markdown",
      "metadata": {
        "id": "O3yhRzzGYLuh"
      },
      "source": [
        "#### SVC Classifier with One-hot vectorization (SVM with RBF kernel, default settings)"
      ]
    },
    {
      "cell_type": "code",
      "execution_count": null,
      "metadata": {
        "colab": {
          "base_uri": "https://localhost:8080/"
        },
        "id": "WC38DcOecrF5",
        "outputId": "de4c2678-5e32-41db-de24-b2f4a855e868"
      },
      "outputs": [
        {
          "name": "stdout",
          "output_type": "stream",
          "text": [
            "            Accuracy  Precision  Recall     F1\n",
            "Training       0.972      0.978   0.972  0.974\n",
            "Validation     0.678      0.730   0.676  0.688\n"
          ]
        },
        {
          "data": {
            "image/png": "[encoded data removed]",
            "text/plain": [
              "<Figure size 1296x360 with 1 Axes>"
            ]
          },
          "metadata": {
            "needs_background": "light"
          },
          "output_type": "display_data"
        }
      ],
      "source": [
        "# Vectorize the text data\n",
        "vectorizer = CountVectorizer(binary=True)\n",
        "X_train = vectorizer.fit_transform(texts_train)\n",
        "X_val = vectorizer.transform(texts_val)\n",
        "\n",
        "# Train the SVC classifier\n",
        "svc = SVC()\n",
        "svc.fit(X_train, labels_train)\n",
        "\n",
        "# Make predictions on the validation set\n",
        "y_val_pred = svc.predict(X_val)\n",
        "\n",
        "# Evaluate the performance of the classifier on the validation set\n",
        "val_accuracy = accuracy_score(labels_val, y_val_pred)\n",
        "val_precision, val_recall, val_f1, _ = precision_recall_fscore_support(labels_val, y_val_pred, average=\"macro\", zero_division=1)\n",
        "\n",
        "# Make predictions on the training set\n",
        "y_train_pred = svc.predict(X_train)\n",
        "\n",
        "# Evaluate the performance of the classifier on the training set\n",
        "train_accuracy = accuracy_score(labels_train, y_train_pred)\n",
        "train_precision, train_recall, train_f1, _ = precision_recall_fscore_support(labels_train, y_train_pred, average=\"macro\", zero_division=1)\n",
        "\n",
        "# Get the test performance\n",
        "# X_test = vectorizer.transform(texts_test)\n",
        "# y_test_pred = svc.predict(X_test)\n",
        "test_accuracy = accuracy_score(labels_val, y_val_pred)\n",
        "test_precision, test_recall, test_f1, _ = precision_recall_fscore_support(labels_val, y_val_pred, average=\"macro\", zero_division=1)\n",
        "SVC_test = [test_accuracy, test_precision, test_recall, test_f1]\n",
        "\n",
        "# Create a table with the evaluation metrics\n",
        "data = {\"Accuracy\": [train_accuracy, val_accuracy],\n",
        "        \"Precision\": [train_precision, val_precision],\n",
        "        \"Recall\": [train_recall, val_recall],\n",
        "        \"F1\": [train_f1, val_f1]}\n",
        "index = [\"Training\", \"Validation\"]\n",
        "df = pd.DataFrame(data, index=index)\n",
        "df = df.round(3)\n",
        "print(df)\n",
        "\n",
        "# Create a bar chart of the F1 scores for each class\n",
        "f1_scores = precision_recall_fscore_support(labels_val, y_val_pred, average=None)[2]\n",
        "classes = np.unique(labels_val)\n",
        "plt.figure(figsize=(18, 5))\n",
        "plt.bar(classes, f1_scores)\n",
        "plt.title(\"F1 Scores by Class\")\n",
        "plt.xlabel(\"Class\")\n",
        "plt.ylabel(\"F1 Score\")\n",
        "plt.show()"
      ]
    },
    {
      "cell_type": "markdown",
      "metadata": {
        "id": "cehThC4HXl3U"
      },
      "source": [
        "### Choose my own classifier/tokenisation/normalisation approach from Scikit Learn"
      ]
    },
    {
      "cell_type": "markdown",
      "metadata": {
        "id": "WkBIIg4JVUxo"
      },
      "source": [
        "#### Random Forest classifier with TF-IDF vectorization for text classification"
      ]
    },
    {
      "cell_type": "code",
      "execution_count": null,
      "metadata": {
        "colab": {
          "base_uri": "https://localhost:8080/"
        },
        "id": "5R9GsdsOZdOC",
        "outputId": "2a0e781b-42db-4032-d0de-bce423c9d834"
      },
      "outputs": [
        {
          "name": "stderr",
          "output_type": "stream",
          "text": [
            "/usr/local/lib/python3.8/dist-packages/sklearn/feature_extraction/text.py:528: UserWarning: The parameter 'token_pattern' will not be used since 'tokenizer' is not None'\n",
            "  warnings.warn(\n"
          ]
        },
        {
          "name": "stdout",
          "output_type": "stream",
          "text": [
            "            Accuracy  Precision  Recall     F1\n",
            "Training       1.000      1.000   1.000  1.000\n",
            "Validation     0.822      0.828   0.818  0.815\n"
          ]
        }
      ],
      "source": [
        "from sklearn.feature_extraction.text import TfidfVectorizer\n",
        "from sklearn.ensemble import RandomForestClassifier\n",
        "from sklearn.metrics import accuracy_score, precision_score, recall_score, f1_score\n",
        "\n",
        "# Create TF-IDF vectorizer\n",
        "vectorizer = TfidfVectorizer(tokenizer = text_pipeline_spacy)\n",
        "\n",
        "# Vectorize training and validation data\n",
        "X_train = vectorizer.fit_transform(texts_train)\n",
        "X_val = vectorizer.transform(texts_val)\n",
        "\n",
        "# Train random forest classifier\n",
        "rf = RandomForestClassifier()\n",
        "rf.fit(X_train, labels_train)\n",
        "\n",
        "# Make predictions on the validation set\n",
        "y_val_pred = rf.predict(X_val)\n",
        "\n",
        "# Evaluate the performance of the classifier on the validation set\n",
        "val_accuracy = accuracy_score(labels_val, y_val_pred)\n",
        "val_precision, val_recall, val_f1, _ = precision_recall_fscore_support(labels_val, y_val_pred, average=\"macro\", zero_division=1)\n",
        "\n",
        "# Make predictions on the training set\n",
        "y_train_pred = rf.predict(X_train)\n",
        "\n",
        "# Evaluate the performance of the classifier on the training set\n",
        "train_accuracy = accuracy_score(labels_train, y_train_pred)\n",
        "train_precision, train_recall, train_f1, _ = precision_recall_fscore_support(labels_train, y_train_pred, average=\"macro\", zero_division=1)\n",
        "\n",
        "# Get the test performance\n",
        "X_test = vectorizer.transform(texts_test)\n",
        "y_test_pred = rf.predict(X_test)\n",
        "test_accuracy = accuracy_score(labels_val, y_val_pred)\n",
        "test_precision, test_recall, test_f1, _ = precision_recall_fscore_support(labels_val, y_val_pred, average=\"macro\", zero_division=1)\n",
        "RF_TFIDF_test = [test_accuracy, test_precision, test_recall, test_f1]\n",
        "\n",
        "# Create a table with the evaluation metrics\n",
        "data = {\"Accuracy\": [train_accuracy, val_accuracy],\n",
        "        \"Precision\": [train_precision, val_precision],\n",
        "        \"Recall\": [train_recall, val_recall],\n",
        "        \"F1\": [train_f1, val_f1]}\n",
        "index = [\"Training\", \"Validation\"]\n",
        "df = pd.DataFrame(data, index=index)\n",
        "df = df.round(3)\n",
        "print(df)\n"
      ]
    },
    {
      "cell_type": "markdown",
      "metadata": {
        "id": "KCYrj5uBg7nU"
      },
      "source": [
        "#### Report on its performance with respect to the five baselines from above on the test set."
      ]
    },
    {
      "cell_type": "code",
      "execution_count": null,
      "metadata": {
        "colab": {
          "base_uri": "https://localhost:8080/"
        },
        "id": "HtV3z6X6g-sL",
        "outputId": "d6ab3e9f-6f3c-424a-bb55-c4784d9f36e0"
      },
      "outputs": [
        {
          "name": "stdout",
          "output_type": "stream",
          "text": [
            "Performance on the validation set\n",
            "\n",
            "           most_frequent  stratified  LogisticRegression with One-hot  \\\n",
            "Accuracy           0.102       0.112                            0.805   \n",
            "Precision          0.900       0.112                            0.807   \n",
            "Recall             0.111       0.108                            0.804   \n",
            "F1                 0.021       0.109                            0.801   \n",
            "\n",
            "           LogisticRegression with TF-IDF  SVC Classifier with One-hot  \\\n",
            "Accuracy                            0.812                        0.678   \n",
            "Precision                           0.830                        0.730   \n",
            "Recall                              0.808                        0.676   \n",
            "F1                                  0.812                        0.688   \n",
            "\n",
            "           Random Forest with TF-IDF  \n",
            "Accuracy                       0.822  \n",
            "Precision                      0.828  \n",
            "Recall                         0.818  \n",
            "F1                             0.815  \n"
          ]
        }
      ],
      "source": [
        "# Create a table with the evaluation metrics\n",
        "print(\"Performance on the validation set\")\n",
        "print()\n",
        "data = {\"most_frequent\": most_frequent_test,\n",
        "        \"stratified\": stratified_test,\n",
        "        \"LogisticRegression with One-hot\": LR_onehot_test,\n",
        "        \"LogisticRegression with TF-IDF\": LR_TFIDF_test,\n",
        "        \"SVC Classifier with One-hot\":SVC_test,\n",
        "        \"Random Forest with TF-IDF\":RF_TFIDF_test,\n",
        "        }\n",
        "index = [\"Accuracy\", \"Precision\", \"Recall\", \"F1\"]\n",
        "df = pd.DataFrame(data, index=index)\n",
        "df = df.round(3)\n",
        "print(df)"
      ]
    },
    {
      "cell_type": "markdown",
      "metadata": {
        "id": "62TOjNq0BrXl"
      },
      "source": [
        "## Q4 - Parameter Tuning"
      ]
    },
    {
      "cell_type": "code",
      "execution_count": null,
      "metadata": {
        "colab": {
          "base_uri": "https://localhost:8080/"
        },
        "id": "9O5fFZ3aC2LM",
        "outputId": "d74caab6-08ba-4d3e-b617-dd9a05a71a4b"
      },
      "outputs": [
        {
          "name": "stdout",
          "output_type": "stream",
          "text": [
            "Fitting 5 folds for each of 12 candidates, totalling 60 fits\n",
            "Fitting 5 folds for each of 9 candidates, totalling 45 fits\n",
            "\n",
            "vectorizer parameters: TfidfVectorizer(sublinear_tf=True), classifier parameters: LogisticRegression(C=100, max_iter=10000), tfidf__max_features: None\n",
            "\n",
            "                                Accuracy  Precision  Recall     F1\n",
            "LogisticRegression with TF-IDF     0.848      0.851   0.845  0.844\n"
          ]
        }
      ],
      "source": [
        "# Define the pipeline with the vectorizer and classifier\n",
        "pipeline = Pipeline([\n",
        "    ('tfidf', TfidfVectorizer()),\n",
        "    ('clf', LogisticRegression(max_iter=10000))\n",
        "])\n",
        "\n",
        "\n",
        "param_grid_vec = {'tfidf__sublinear_tf': [True, False], \n",
        "                  'tfidf__max_features': [None, 10000, 20000, 30000, 40000, 50000]}\n",
        "param_grid_clf = {'clf__C': [0.001, 0.01, 0.1, 1, 10, 100, 1000, 10000, 100000]}\n",
        "\n",
        "# # Define the parameter grid to search\n",
        "# param_grid = {\n",
        "#     'tfidf__sublinear_tf': [True, False],\n",
        "#     'tfidf__max_features': [None, 10000, 20000, 30000, 40000, 50000],\n",
        "#     'lr__C': [0.001, 0.01, 0.1, 1, 10, 100, 1000, 10000, 100000]\n",
        "# }\n",
        "\n",
        "\n",
        "# perform grid search for vectorizer parameters\n",
        "grid_search_vec = GridSearchCV(\n",
        "    pipeline, param_grid=param_grid_vec, cv=5, n_jobs=-1, verbose=1\n",
        ")\n",
        "grid_search_vec.fit(texts_train, labels_train)\n",
        "\n",
        "# get the best vectorizer parameter values\n",
        "best_sublinear_tf = grid_search_vec.best_params_['tfidf__sublinear_tf']\n",
        "best_max_features = grid_search_vec.best_params_['tfidf__max_features']\n",
        "\n",
        "# set the best vectorizer parameter values in the pipeline\n",
        "pipeline.set_params(tfidf__sublinear_tf=best_sublinear_tf, \n",
        "                    tfidf__max_features=best_max_features)\n",
        "\n",
        "# perform grid search for classifier parameters\n",
        "grid_search_clf = GridSearchCV(pipeline, param_grid_clf, cv=5, n_jobs=-1,verbose=1)\n",
        "grid_search_clf.fit(texts_train, labels_train)\n",
        "\n",
        "print()\n",
        "\n",
        "# get the best classifier parameter value\n",
        "best_c = grid_search_clf.best_params_['clf__C']\n",
        "\n",
        "# set the best classifier parameter value in the pipeline\n",
        "pipeline.set_params(clf__C=best_c)\n",
        "\n",
        "# fit the pipeline on the training data\n",
        "pipeline.fit(texts_train, labels_train)\n",
        "\n",
        "\n",
        "# Print the best parameters found\n",
        "print(f\"vectorizer parameters: {pipeline.get_params()['tfidf']}, classifier parameters: {pipeline.get_params()['clf']}, tfidf__max_features: {pipeline.get_params()['tfidf__max_features']}\")\n",
        "\n",
        "# evaluate on the validation data\n",
        "accuracy = pipeline.score(texts_val, labels_val)\n",
        "predictions = pipeline.predict(texts_val)\n",
        "precision, recall, f1, _ = precision_recall_fscore_support(labels_val, predictions, average='macro')\n",
        "\n",
        "\n",
        "print()\n",
        "# Create a table with the evaluation metrics\n",
        "data = {\"Accuracy\": accuracy,\n",
        "        \"Precision\": precision,\n",
        "        \"Recall\": recall,\n",
        "        \"F1\": f1,\n",
        "        }\n",
        "index = [\"LogisticRegression with TF-IDF\"]\n",
        "df = pd.DataFrame(data, index=index)\n",
        "df = df.round(3)\n",
        "print(df)\n"
      ]
    },
    {
      "cell_type": "markdown",
      "metadata": {
        "id": "Yarvg0H6aRln"
      },
      "source": [
        "## Q5 - Context vectors using BERT"
      ]
    },
    {
      "cell_type": "markdown",
      "metadata": {
        "id": "CgaokQSU_V2-"
      },
      "source": [
        "### （a）"
      ]
    },
    {
      "cell_type": "code",
      "execution_count": null,
      "metadata": {
        "colab": {
          "base_uri": "https://localhost:8080/",
          "height": 495,
          "referenced_widgets": [
            "599d07d56b71455b82d203e8fe9c69f4",
            "0a4f57226f6b4cb4bd50f111f637f0ef",
            "524c4f39f8764478ad45310f9a37f9a9",
            "0d6639db921544a799844fe029b74900",
            "320b5a319b164f6a9d3220f108a78e3f",
            "84ed3323f4d7435c96f976134b64b3d0",
            "e1cb7a29e0ee4f9ca286286fc5872006",
            "4c5cb9d596b74bb5b9d6296f22c9f439",
            "4c18c827a2464c16bb70ac5c34cd3560",
            "96ccd1ff2b6c4bb4abd3693a1f094239",
            "d4f3ba8bdf4f47fc9d756cba7fcfff99",
            "5b37a3d734394271810b02bcbc525887",
            "89113a19df1a4711aae17225e16481a8",
            "1492fe75daad414790184cd51cc59bc0",
            "dd3e110b11fe4cd0872feec29eb0cb29",
            "8e09edb31d0747b7b208e8dbaa1e1a29",
            "79977212fd7b453f930463d32bcf2c03",
            "2cfddb0d17204ac3a177aa2142ae0e22",
            "eaa888c005ec4ff692fe006fea3270e1",
            "8b6334d0bfcf40639cfbcec1dd32a6e1",
            "f1f0d79f989e4433bdb126d6458bedd3",
            "2b9698cc850e46a4940cfbc2a09cc333",
            "d39e7f9c272b402ab7d9752a47699ad9",
            "6e7812ba271145419342413c53670d3f",
            "cc00d4eb4edf4e6c89cf34bdfe5e9df0",
            "9f7b9849bd6c4ada891b879cea89aae5",
            "b0a97fd498754613bd6723736a4cccb8",
            "9ffaa2874d774850a26c4356ed546606",
            "e0e6a8e04ece468aafbd98cba21522b8",
            "f701bac0391644d29d533013044a36ff",
            "30e6d7c929e1425bab73ccf4d7e78d9b",
            "caa25bf640f546e792acf2ca2a4fd26c",
            "83132df60b2049e3b4abacf945fffbd9",
            "cc2d487c4d55488dab626b073b552d63",
            "34b1326c60e14aa9b031da9027b63963",
            "c482a8a0e6b748f685147a04cb871578",
            "d84c9f307ad144a9ac40d2b30e815fd9",
            "86926fecf539471aa74e3a03184e8306",
            "36544862396245ecb190e1e1f4f2b19b",
            "851aec4e4fc141bd88ffc89dc9d34d60",
            "07ff01d2161444c2a6e513b5cae39a5f",
            "91a26eb4497547aa844175547522606b",
            "fae8c9b2f1c74c1bb94fb5959e4c8d5c",
            "d2e80101d49544b388b5e55da4473086"
          ]
        },
        "id": "3G_p4lNvG9TR",
        "outputId": "0b9f1878-10a4-49c1-8f7a-e659e40be17d"
      },
      "outputs": [
        {
          "data": {
            "application/vnd.jupyter.widget-view+json": {
              "model_id": "599d07d56b71455b82d203e8fe9c69f4",
              "version_major": 2,
              "version_minor": 0
            },
            "text/plain": [
              "Downloading (…)olve/main/vocab.json:   0%|          | 0.00/899k [00:00<?, ?B/s]"
            ]
          },
          "metadata": {},
          "output_type": "display_data"
        },
        {
          "data": {
            "application/vnd.jupyter.widget-view+json": {
              "model_id": "5b37a3d734394271810b02bcbc525887",
              "version_major": 2,
              "version_minor": 0
            },
            "text/plain": [
              "Downloading (…)olve/main/merges.txt:   0%|          | 0.00/456k [00:00<?, ?B/s]"
            ]
          },
          "metadata": {},
          "output_type": "display_data"
        },
        {
          "data": {
            "application/vnd.jupyter.widget-view+json": {
              "model_id": "d39e7f9c272b402ab7d9752a47699ad9",
              "version_major": 2,
              "version_minor": 0
            },
            "text/plain": [
              "Downloading (…)lve/main/config.json:   0%|          | 0.00/481 [00:00<?, ?B/s]"
            ]
          },
          "metadata": {},
          "output_type": "display_data"
        },
        {
          "data": {
            "application/vnd.jupyter.widget-view+json": {
              "model_id": "cc2d487c4d55488dab626b073b552d63",
              "version_major": 2,
              "version_minor": 0
            },
            "text/plain": [
              "Downloading (…)\"pytorch_model.bin\";:   0%|          | 0.00/501M [00:00<?, ?B/s]"
            ]
          },
          "metadata": {},
          "output_type": "display_data"
        },
        {
          "name": "stderr",
          "output_type": "stream",
          "text": [
            "Some weights of the model checkpoint at roberta-base were not used when initializing RobertaModel: ['lm_head.layer_norm.bias', 'lm_head.decoder.weight', 'lm_head.dense.bias', 'lm_head.bias', 'lm_head.layer_norm.weight', 'lm_head.dense.weight']\n",
            "- This IS expected if you are initializing RobertaModel from the checkpoint of a model trained on another task or with another architecture (e.g. initializing a BertForSequenceClassification model from a BertForPreTraining model).\n",
            "- This IS NOT expected if you are initializing RobertaModel from the checkpoint of a model that you expect to be exactly identical (initializing a BertForSequenceClassification model from a BertForSequenceClassification model).\n"
          ]
        },
        {
          "name": "stdout",
          "output_type": "stream",
          "text": [
            "                precision    recall  f1-score   support\n",
            "\n",
            "        Coffee       0.84      0.84      0.84        45\n",
            "   HydroHomies       0.83      0.95      0.89        42\n",
            "NintendoSwitch       0.61      0.68      0.64        41\n",
            "           PS4       0.51      0.50      0.51        44\n",
            "          Soda       0.97      0.80      0.88        45\n",
            "       antiMLM       0.94      0.98      0.96        48\n",
            "      pcgaming       0.71      0.60      0.65        45\n",
            "           tea       0.86      0.88      0.87        41\n",
            "          xbox       0.67      0.69      0.68        49\n",
            "\n",
            "      accuracy                           0.77       400\n",
            "     macro avg       0.77      0.77      0.77       400\n",
            "  weighted avg       0.77      0.77      0.77       400\n",
            "\n"
          ]
        }
      ],
      "source": [
        "from sklearn.linear_model import LogisticRegression\n",
        "from sklearn.metrics import classification_report\n",
        "import torch\n",
        "from transformers import RobertaTokenizer, RobertaModel\n",
        "from transformers import pipeline\n",
        "\n",
        "## Device\n",
        "device = \"cuda\" if torch.cuda.is_available() else \"cpu\"\n",
        "\n",
        "# Load the RoBERTa tokenizer and model\n",
        "tokenizer = RobertaTokenizer.from_pretrained('roberta-base')\n",
        "model = RobertaModel.from_pretrained('roberta-base')\n",
        "model.to(device)\n",
        "\n",
        "def GetOutput(text):\n",
        "    tokenized = tokenizer.encode_plus(text, truncation=True, add_special_tokens=True, return_tensors='pt')\n",
        "    ids = tokenized[\"input_ids\"]\n",
        "    mask = tokenized[\"attention_mask\"]\n",
        "    return{\n",
        "        \"ids\": torch.LongTensor(ids),\n",
        "        \"mask\": torch.LongTensor(mask)\n",
        "    } \n",
        "\n",
        "# Define a function to extract the [CLS] token embeddings for a given text\n",
        "def extract_cls_embedding(text):\n",
        "    encoding = GetOutput(text)\n",
        "    ids = encoding[\"ids\"].to(device)\n",
        "    mask = encoding[\"mask\"].to(device)\n",
        "    outputs = model(ids, mask)\n",
        "    # print(type(outputs))\n",
        "    # print(outputs)\n",
        "    last_hidden_state = outputs[0]\n",
        "    cls_embedding = last_hidden_state[:, 0, :].detach()\n",
        "    cls_embedding_numpy = cls_embedding.cpu().numpy().flatten()\n",
        "    return cls_embedding_numpy\n",
        "\n",
        "# Encode the training set texts and labels\n",
        "train_embeddings = [extract_cls_embedding(text) for text in texts_train]\n",
        "X_train = train_embeddings\n",
        "y_train = labels_train\n",
        "\n",
        "# Train a logistic regression classifier on the training set\n",
        "clf = LogisticRegression(random_state=42, max_iter=1000)\n",
        "clf.fit(X_train, y_train)\n",
        "\n",
        "# Evaluate the classifier on the validation set\n",
        "val_embeddings = [extract_cls_embedding(text) for text in texts_val]\n",
        "X_val = val_embeddings\n",
        "y_val = labels_val\n",
        "y_val_pred = clf.predict(X_val)\n",
        "print(classification_report(y_val, y_val_pred))\n"
      ]
    },
    {
      "cell_type": "markdown",
      "metadata": {
        "id": "fnt-b79PBr7b"
      },
      "source": [
        "### (b)"
      ]
    },
    {
      "cell_type": "markdown",
      "metadata": {
        "id": "Cynz0pVhbAmq"
      },
      "source": [
        "#### Using a GPU\n",
        "Be sure to request a Google Colab. It should already be set up to request one. You can check under Edit -> Notebook settings and change Hardware accelerator to GPU as in the screenshot below. There is a limit on the notebooks that you can run with a GPU on the free tier of Colab. And unfortunately sometimes Google Cloud gets rather busy and it can be difficult to get a GPU."
      ]
    },
    {
      "cell_type": "code",
      "execution_count": null,
      "metadata": {
        "colab": {
          "base_uri": "https://localhost:8080/"
        },
        "id": "r-qGcvLkruON",
        "outputId": "74e22721-8349-4bb8-9440-8c23a643a739"
      },
      "outputs": [
        {
          "name": "stdout",
          "output_type": "stream",
          "text": [
            "Number of classes: 9\n"
          ]
        }
      ],
      "source": [
        "from torch.utils.data import Dataset\n",
        "from sklearn.metrics import accuracy_score, precision_recall_fscore_support\n",
        "from sklearn.preprocessing import LabelEncoder\n",
        "\n",
        "class TextDataset(Dataset):\n",
        "    def __init__(self, texts, labels, tokenizer):\n",
        "        self.texts = texts\n",
        "        self.labels = labels\n",
        "        self.tokenizer = tokenizer\n",
        "\n",
        "    def __len__(self):\n",
        "        return len(self.texts)\n",
        "\n",
        "    def __getitem__(self, index):\n",
        "        text = self.texts[index]\n",
        "        label = self.labels[index]\n",
        "        encoding = self.tokenizer(text, truncation=True, padding='max_length', max_length=128, return_tensors='pt')\n",
        "        return {\n",
        "            'input_ids': encoding['input_ids'].squeeze(),\n",
        "            'attention_mask': encoding['attention_mask'].squeeze(),\n",
        "            'label': label,\n",
        "        }\n",
        "\n",
        "\n",
        "\n",
        "def compute_metrics(pred):\n",
        "    labels = pred.label_ids\n",
        "    preds = pred.predictions.argmax(-1)\n",
        "    acc = accuracy_score(labels, preds)\n",
        "    p, r, f1, _ = precision_recall_fscore_support(labels, preds, average='weighted')\n",
        "    return {\n",
        "        'accuracy': acc,\n",
        "        'precision': p,\n",
        "        'recall': r,\n",
        "        'f1': f1,\n",
        "    }\n",
        "\n",
        "# Create a LabelEncoder object\n",
        "label_encoder = LabelEncoder()\n",
        "\n",
        "# Fit the encoder on the label data and transform the label data\n",
        "labels_train_encoded = label_encoder.fit_transform(labels_train)\n",
        "labels_val_encoded = label_encoder.transform(labels_val)\n",
        "labels_test_encoded = label_encoder.transform(labels_test)\n",
        "\n",
        "# Check the number of classes\n",
        "num_classes = len(label_encoder.classes_)\n",
        "print('Number of classes:', num_classes)"
      ]
    },
    {
      "cell_type": "code",
      "execution_count": null,
      "metadata": {
        "colab": {
          "base_uri": "https://localhost:8080/",
          "height": 156,
          "referenced_widgets": [
            "f77c97981971499585eef6337767021a",
            "c2d915f67202470aaf3fb882cdc77076",
            "9d3a004ff3e046d583a06add49356ec5",
            "32cce2193b76495dabd165dde1280ac0",
            "5998b9b5abc54d20aef731a5575a530e",
            "58a722649fc542ebaf0e4d0025a3ccc4",
            "7880319948c9425f8f390847267799f3",
            "4b60be16287e4de6af7e8d09e13d948f",
            "9f06215b6b694e8f8b3d5e5bbd03beae",
            "f2cabe4ed7b0417e9956120e8a62f9f3",
            "3b1efb3759ed4e77ad9f3fb704842334"
          ]
        },
        "id": "iTDy4ea6ryiV",
        "outputId": "e3b4b499-cf0d-4a75-ad40-572de254fdc3"
      },
      "outputs": [
        {
          "data": {
            "application/vnd.jupyter.widget-view+json": {
              "model_id": "f77c97981971499585eef6337767021a",
              "version_major": 2,
              "version_minor": 0
            },
            "text/plain": [
              "Downloading (…)/main/tokenizer.json:   0%|          | 0.00/1.36M [00:00<?, ?B/s]"
            ]
          },
          "metadata": {},
          "output_type": "display_data"
        },
        {
          "name": "stderr",
          "output_type": "stream",
          "text": [
            "Some weights of the model checkpoint at roberta-base were not used when initializing RobertaForSequenceClassification: ['lm_head.layer_norm.bias', 'roberta.pooler.dense.weight', 'lm_head.decoder.weight', 'lm_head.dense.bias', 'roberta.pooler.dense.bias', 'lm_head.bias', 'lm_head.layer_norm.weight', 'lm_head.dense.weight']\n",
            "- This IS expected if you are initializing RobertaForSequenceClassification from the checkpoint of a model trained on another task or with another architecture (e.g. initializing a BertForSequenceClassification model from a BertForPreTraining model).\n",
            "- This IS NOT expected if you are initializing RobertaForSequenceClassification from the checkpoint of a model that you expect to be exactly identical (initializing a BertForSequenceClassification model from a BertForSequenceClassification model).\n",
            "Some weights of RobertaForSequenceClassification were not initialized from the model checkpoint at roberta-base and are newly initialized: ['classifier.dense.bias', 'classifier.dense.weight', 'classifier.out_proj.bias', 'classifier.out_proj.weight']\n",
            "You should probably TRAIN this model on a down-stream task to be able to use it for predictions and inference.\n"
          ]
        }
      ],
      "source": [
        "from transformers import RobertaTokenizerFast, RobertaForSequenceClassification, Trainer, TrainingArguments\n",
        "from sklearn.metrics import accuracy_score, precision_recall_fscore_support\n",
        "from transformers import DataCollatorWithPadding\n",
        "\n",
        "# Create the tokenizer and the model\n",
        "tokenizer = RobertaTokenizerFast.from_pretrained('roberta-base')\n",
        "model = RobertaForSequenceClassification.from_pretrained('roberta-base', num_labels=num_classes)"
      ]
    },
    {
      "cell_type": "code",
      "execution_count": null,
      "metadata": {
        "id": "2jk9yoi2Cl9v"
      },
      "outputs": [],
      "source": [
        "# Define the training arguments\n",
        "training_args = TrainingArguments(\n",
        "    output_dir='./results',\n",
        "    num_train_epochs=1,\n",
        "    per_device_train_batch_size=16,\n",
        "    per_device_eval_batch_size=16,\n",
        "    learning_rate=1e-4,\n",
        "    weight_decay=0,\n",
        "    logging_dir='./logs',\n",
        "    logging_steps=10,\n",
        "    evaluation_strategy='epoch',\n",
        "    save_total_limit=1,\n",
        "    save_strategy='epoch',\n",
        "    load_best_model_at_end=True,\n",
        ")\n",
        "\n",
        "# Define the trainer\n",
        "trainer = Trainer(\n",
        "    model=model,\n",
        "    args=training_args,\n",
        "    train_dataset=TextDataset(texts_train, labels_train_encoded, tokenizer),\n",
        "    eval_dataset=TextDataset(texts_val, labels_val_encoded, tokenizer),\n",
        "    data_collator=DataCollatorWithPadding(tokenizer=tokenizer),\n",
        ")"
      ]
    },
    {
      "cell_type": "code",
      "execution_count": null,
      "metadata": {
        "colab": {
          "base_uri": "https://localhost:8080/",
          "height": 632
        },
        "id": "Pt8xjL1ODPrP",
        "outputId": "d5b99b24-1a1d-4ba3-eca7-d125d757ed75"
      },
      "outputs": [
        {
          "name": "stderr",
          "output_type": "stream",
          "text": [
            "/usr/local/lib/python3.8/dist-packages/transformers/optimization.py:306: FutureWarning: This implementation of AdamW is deprecated and will be removed in a future version. Use the PyTorch implementation torch.optim.AdamW instead, or set `no_deprecation_warning=True` to disable this warning\n",
            "  warnings.warn(\n",
            "***** Running training *****\n",
            "  Num examples = 1200\n",
            "  Num Epochs = 1\n",
            "  Instantaneous batch size per device = 16\n",
            "  Total train batch size (w. parallel, distributed & accumulation) = 16\n",
            "  Gradient Accumulation steps = 1\n",
            "  Total optimization steps = 75\n",
            "  Number of trainable parameters = 124652553\n",
            "You're using a RobertaTokenizerFast tokenizer. Please note that with a fast tokenizer, using the `__call__` method is faster than using a method to encode the text followed by a call to the `pad` method to get a padded encoding.\n"
          ]
        },
        {
          "data": {
            "text/html": [
              "\n",
              "    <div>\n",
              "      \n",
              "      <progress value='75' max='75' style='width:300px; height:20px; vertical-align: middle;'></progress>\n",
              "      [75/75 00:42, Epoch 1/1]\n",
              "    </div>\n",
              "    <table border=\"1\" class=\"dataframe\">\n",
              "  <thead>\n",
              " <tr style=\"text-align: left;\">\n",
              "      <th>Epoch</th>\n",
              "      <th>Training Loss</th>\n",
              "      <th>Validation Loss</th>\n",
              "    </tr>\n",
              "  </thead>\n",
              "  <tbody>\n",
              "    <tr>\n",
              "      <td>1</td>\n",
              "      <td>0.706700</td>\n",
              "      <td>0.576050</td>\n",
              "    </tr>\n",
              "  </tbody>\n",
              "</table><p>"
            ],
            "text/plain": [
              "<IPython.core.display.HTML object>"
            ]
          },
          "metadata": {},
          "output_type": "display_data"
        },
        {
          "name": "stderr",
          "output_type": "stream",
          "text": [
            "***** Running Evaluation *****\n",
            "  Num examples = 400\n",
            "  Batch size = 16\n",
            "Saving model checkpoint to ./results/checkpoint-75\n",
            "Configuration saved in ./results/checkpoint-75/config.json\n",
            "Model weights saved in ./results/checkpoint-75/pytorch_model.bin\n",
            "\n",
            "\n",
            "Training completed. Do not forget to share your model on huggingface.co/models =)\n",
            "\n",
            "\n",
            "Loading best model from ./results/checkpoint-75 (score: 0.5760501027107239).\n",
            "Deleting older checkpoint [results/checkpoint-75] due to args.save_total_limit\n",
            "***** Running Evaluation *****\n",
            "  Num examples = 400\n",
            "  Batch size = 16\n"
          ]
        },
        {
          "data": {
            "text/html": [
              "\n",
              "    <div>\n",
              "      \n",
              "      <progress value='25' max='25' style='width:300px; height:20px; vertical-align: middle;'></progress>\n",
              "      [25/25 00:02]\n",
              "    </div>\n",
              "    "
            ],
            "text/plain": [
              "<IPython.core.display.HTML object>"
            ]
          },
          "metadata": {},
          "output_type": "display_data"
        },
        {
          "name": "stdout",
          "output_type": "stream",
          "text": [
            "{'eval_loss': 0.5760501027107239, 'eval_runtime': 2.9483, 'eval_samples_per_second': 135.67, 'eval_steps_per_second': 8.479, 'epoch': 1.0}\n"
          ]
        }
      ],
      "source": [
        "# Train the model\n",
        "trainer.train()\n",
        "\n",
        "# Evaluate the model on the validation set\n",
        "eval_results = trainer.evaluate(eval_dataset=TextDataset(texts_val, labels_val_encoded, tokenizer))\n",
        "\n",
        "# Print the evaluation results\n",
        "print(eval_results)"
      ]
    },
    {
      "cell_type": "code",
      "execution_count": null,
      "metadata": {
        "colab": {
          "base_uri": "https://localhost:8080/",
          "height": 126
        },
        "id": "0bv6Grtlad1P",
        "outputId": "9e2a64d0-9eb5-47df-f334-38d3642c0747"
      },
      "outputs": [
        {
          "name": "stderr",
          "output_type": "stream",
          "text": [
            "***** Running Evaluation *****\n",
            "  Num examples = 400\n",
            "  Batch size = 16\n"
          ]
        },
        {
          "data": {
            "text/html": [
              "\n",
              "    <div>\n",
              "      \n",
              "      <progress value='50' max='25' style='width:300px; height:20px; vertical-align: middle;'></progress>\n",
              "      [25/25 00:05]\n",
              "    </div>\n",
              "    "
            ],
            "text/plain": [
              "<IPython.core.display.HTML object>"
            ]
          },
          "metadata": {},
          "output_type": "display_data"
        },
        {
          "name": "stdout",
          "output_type": "stream",
          "text": [
            "{'eval_loss': 0.5760501027107239, 'eval_accuracy': 0.8, 'eval_precision': 0.7996780682981722, 'eval_recall': 0.8, 'eval_f1': 0.7777997146502611, 'eval_runtime': 3.0142, 'eval_samples_per_second': 132.706, 'eval_steps_per_second': 8.294, 'epoch': 1.0}\n"
          ]
        }
      ],
      "source": [
        "# Define the evaluation function to compute the evaluation metrics\n",
        "def compute_metrics(eval_pred):\n",
        "    y_true = eval_pred.label_ids\n",
        "    y_pred = eval_pred.predictions.argmax(-1)\n",
        "    precision, recall, f1, _ = precision_recall_fscore_support(y_true, y_pred, average='weighted')\n",
        "    acc = accuracy_score(y_true, y_pred)\n",
        "    return {'accuracy': acc, 'precision': precision, 'recall': recall, 'f1': f1}\n",
        "\n",
        "# Set the compute_metrics argument for the trainer\n",
        "trainer.compute_metrics = compute_metrics\n",
        "\n",
        "# Evaluate the model on the validation set and get the evaluation metrics\n",
        "eval_results = trainer.evaluate(eval_dataset=TextDataset(texts_val, labels_val_encoded, tokenizer))\n",
        "\n",
        "# Print the evaluation metrics\n",
        "print(eval_results)\n"
      ]
    },
    {
      "cell_type": "markdown",
      "metadata": {
        "id": "TY2c2D10u17i"
      },
      "source": [
        "### (C)"
      ]
    },
    {
      "cell_type": "markdown",
      "metadata": {
        "id": "lYRyhB4zwaUJ"
      },
      "source": [
        "#### 1"
      ]
    },
    {
      "cell_type": "code",
      "execution_count": null,
      "metadata": {
        "colab": {
          "base_uri": "https://localhost:8080/"
        },
        "id": "7-C4lCMuvDXI",
        "outputId": "96b56a24-e1db-4eaa-ad40-2f52d2f05317"
      },
      "outputs": [
        {
          "name": "stderr",
          "output_type": "stream",
          "text": [
            "PyTorch: setting up devices\n",
            "The default value for the training argument `--report_to` will change in v5 (from all installed integrations to none). In v5, you will need to use `--report_to all` to get the same behavior as now. You should start updating your code and make this info disappear :-).\n"
          ]
        }
      ],
      "source": [
        "training_args_1 = TrainingArguments(\n",
        "    output_dir='./results',\n",
        "    num_train_epochs=2,\n",
        "    per_device_train_batch_size=32,\n",
        "    per_device_eval_batch_size=32,\n",
        "    learning_rate=2e-5,\n",
        "    weight_decay=0,\n",
        "    logging_dir='./logs',\n",
        "    logging_steps=10,\n",
        "    evaluation_strategy='epoch',\n",
        "    save_total_limit=1,\n",
        "    save_strategy='epoch',\n",
        "    load_best_model_at_end=True,\n",
        ")\n",
        "# Define the trainer\n",
        "trainer = Trainer(\n",
        "    model=model,\n",
        "    args=training_args_1,\n",
        "    train_dataset=TextDataset(texts_train, labels_train_encoded, tokenizer),\n",
        "    eval_dataset=TextDataset(texts_val, labels_val_encoded, tokenizer),\n",
        "    data_collator=DataCollatorWithPadding(tokenizer=tokenizer),\n",
        ")"
      ]
    },
    {
      "cell_type": "code",
      "execution_count": null,
      "metadata": {
        "colab": {
          "base_uri": "https://localhost:8080/"
        },
        "id": "EtuXtLpnx_fZ",
        "outputId": "d3bb9e56-5263-47bd-f976-d00f81493f41"
      },
      "outputs": [
        {
          "name": "stderr",
          "output_type": "stream",
          "text": [
            "/usr/local/lib/python3.8/dist-packages/transformers/optimization.py:306: FutureWarning: This implementation of AdamW is deprecated and will be removed in a future version. Use the PyTorch implementation torch.optim.AdamW instead, or set `no_deprecation_warning=True` to disable this warning\n",
            "  warnings.warn(\n",
            "***** Running training *****\n",
            "  Num examples = 1200\n",
            "  Num Epochs = 2\n",
            "  Instantaneous batch size per device = 32\n",
            "  Total train batch size (w. parallel, distributed & accumulation) = 32\n",
            "  Gradient Accumulation steps = 1\n",
            "  Total optimization steps = 76\n",
            "  Number of trainable parameters = 124652553\n"
          ]
        },
        {
          "data": {
            "text/html": [
              "\n",
              "    <div>\n",
              "      \n",
              "      <progress value='76' max='76' style='width:300px; height:20px; vertical-align: middle;'></progress>\n",
              "      [76/76 01:10, Epoch 2/2]\n",
              "    </div>\n",
              "    <table border=\"1\" class=\"dataframe\">\n",
              "  <thead>\n",
              " <tr style=\"text-align: left;\">\n",
              "      <th>Epoch</th>\n",
              "      <th>Training Loss</th>\n",
              "      <th>Validation Loss</th>\n",
              "    </tr>\n",
              "  </thead>\n",
              "  <tbody>\n",
              "    <tr>\n",
              "      <td>1</td>\n",
              "      <td>0.410400</td>\n",
              "      <td>0.396132</td>\n",
              "    </tr>\n",
              "    <tr>\n",
              "      <td>2</td>\n",
              "      <td>0.312400</td>\n",
              "      <td>0.339005</td>\n",
              "    </tr>\n",
              "  </tbody>\n",
              "</table><p>"
            ],
            "text/plain": [
              "<IPython.core.display.HTML object>"
            ]
          },
          "metadata": {},
          "output_type": "display_data"
        },
        {
          "name": "stderr",
          "output_type": "stream",
          "text": [
            "***** Running Evaluation *****\n",
            "  Num examples = 400\n",
            "  Batch size = 32\n",
            "Saving model checkpoint to ./results/checkpoint-38\n",
            "Configuration saved in ./results/checkpoint-38/config.json\n",
            "Model weights saved in ./results/checkpoint-38/pytorch_model.bin\n",
            "***** Running Evaluation *****\n",
            "  Num examples = 400\n",
            "  Batch size = 32\n",
            "Saving model checkpoint to ./results/checkpoint-76\n",
            "Configuration saved in ./results/checkpoint-76/config.json\n",
            "Model weights saved in ./results/checkpoint-76/pytorch_model.bin\n",
            "\n",
            "\n",
            "Training completed. Do not forget to share your model on huggingface.co/models =)\n",
            "\n",
            "\n",
            "Loading best model from ./results/checkpoint-76 (score: 0.3390050232410431).\n",
            "Deleting older checkpoint [results/checkpoint-38] due to args.save_total_limit\n",
            "Deleting older checkpoint [results/checkpoint-76] due to args.save_total_limit\n"
          ]
        },
        {
          "data": {
            "text/plain": [
              "TrainOutput(global_step=76, training_loss=0.3852933613877547, metrics={'train_runtime': 70.5872, 'train_samples_per_second': 34.0, 'train_steps_per_second': 1.077, 'total_flos': 157876555161600.0, 'train_loss': 0.3852933613877547, 'epoch': 2.0})"
            ]
          },
          "execution_count": 19,
          "metadata": {},
          "output_type": "execute_result"
        }
      ],
      "source": [
        "# Train the model\n",
        "trainer.train()"
      ]
    },
    {
      "cell_type": "code",
      "execution_count": null,
      "metadata": {
        "colab": {
          "base_uri": "https://localhost:8080/"
        },
        "id": "aPOWyGAvyHfB",
        "outputId": "61b30269-0e12-4bb5-eedf-863d69c12598"
      },
      "outputs": [
        {
          "name": "stderr",
          "output_type": "stream",
          "text": [
            "***** Running Evaluation *****\n",
            "  Num examples = 400\n",
            "  Batch size = 32\n"
          ]
        },
        {
          "data": {
            "text/html": [
              "\n",
              "    <div>\n",
              "      \n",
              "      <progress value='13' max='13' style='width:300px; height:20px; vertical-align: middle;'></progress>\n",
              "      [13/13 00:02]\n",
              "    </div>\n",
              "    "
            ],
            "text/plain": [
              "<IPython.core.display.HTML object>"
            ]
          },
          "metadata": {},
          "output_type": "display_data"
        },
        {
          "name": "stdout",
          "output_type": "stream",
          "text": [
            "{'eval_loss': 0.3390050232410431, 'eval_accuracy': 0.895, 'eval_precision': 0.8953217791540277, 'eval_recall': 0.895, 'eval_f1': 0.8947951766346283, 'eval_runtime': 3.143, 'eval_samples_per_second': 127.267, 'eval_steps_per_second': 4.136, 'epoch': 2.0}\n"
          ]
        }
      ],
      "source": [
        "# Define the evaluation function to compute the evaluation metrics\n",
        "def compute_metrics(eval_pred):\n",
        "    y_true = eval_pred.label_ids\n",
        "    y_pred = eval_pred.predictions.argmax(-1)\n",
        "    precision, recall, f1, _ = precision_recall_fscore_support(y_true, y_pred, average='weighted')\n",
        "    acc = accuracy_score(y_true, y_pred)\n",
        "    return {'accuracy': acc, 'precision': precision, 'recall': recall, 'f1': f1}\n",
        "\n",
        "# Set the compute_metrics argument for the trainer\n",
        "trainer.compute_metrics = compute_metrics\n",
        "\n",
        "# Evaluate the model on the validation set and get the evaluation metrics\n",
        "eval_results = trainer.evaluate(eval_dataset=TextDataset(texts_val, labels_val_encoded, tokenizer))\n",
        "\n",
        "# Print the evaluation metrics\n",
        "print(eval_results)\n"
      ]
    },
    {
      "cell_type": "markdown",
      "metadata": {
        "id": "CF34_AYXx6Sp"
      },
      "source": [
        "#### 2"
      ]
    },
    {
      "cell_type": "code",
      "execution_count": null,
      "metadata": {
        "colab": {
          "base_uri": "https://localhost:8080/"
        },
        "id": "TApWvvsYvJER",
        "outputId": "49355e54-cb49-44a7-e99e-98f896954fee"
      },
      "outputs": [
        {
          "name": "stderr",
          "output_type": "stream",
          "text": [
            "PyTorch: setting up devices\n",
            "The default value for the training argument `--report_to` will change in v5 (from all installed integrations to none). In v5, you will need to use `--report_to all` to get the same behavior as now. You should start updating your code and make this info disappear :-).\n"
          ]
        }
      ],
      "source": [
        "training_args_2 = TrainingArguments(\n",
        "    output_dir='./results',\n",
        "    num_train_epochs=1,\n",
        "    per_device_train_batch_size=8,\n",
        "    per_device_eval_batch_size=8,\n",
        "    learning_rate=5e-5,\n",
        "    weight_decay=0,\n",
        "    logging_dir='./logs',\n",
        "    logging_steps=10,\n",
        "    evaluation_strategy='epoch',\n",
        "    save_total_limit=1,\n",
        "    save_strategy='epoch',\n",
        "    load_best_model_at_end=True,\n",
        ")\n",
        "\n",
        "# Define the trainer\n",
        "trainer = Trainer(\n",
        "    model=model,\n",
        "    args=training_args_2,\n",
        "    train_dataset=TextDataset(texts_train, labels_train_encoded, tokenizer),\n",
        "    eval_dataset=TextDataset(texts_val, labels_val_encoded, tokenizer),\n",
        "    data_collator=DataCollatorWithPadding(tokenizer=tokenizer),\n",
        ")"
      ]
    },
    {
      "cell_type": "code",
      "execution_count": null,
      "metadata": {
        "colab": {
          "base_uri": "https://localhost:8080/"
        },
        "id": "anYNSWSC17nF",
        "outputId": "a673c088-9a13-4341-f16c-5a7f9836e31b"
      },
      "outputs": [
        {
          "name": "stderr",
          "output_type": "stream",
          "text": [
            "/usr/local/lib/python3.8/dist-packages/transformers/optimization.py:306: FutureWarning: This implementation of AdamW is deprecated and will be removed in a future version. Use the PyTorch implementation torch.optim.AdamW instead, or set `no_deprecation_warning=True` to disable this warning\n",
            "  warnings.warn(\n",
            "***** Running training *****\n",
            "  Num examples = 1200\n",
            "  Num Epochs = 1\n",
            "  Instantaneous batch size per device = 8\n",
            "  Total train batch size (w. parallel, distributed & accumulation) = 8\n",
            "  Gradient Accumulation steps = 1\n",
            "  Total optimization steps = 150\n",
            "  Number of trainable parameters = 124652553\n"
          ]
        },
        {
          "data": {
            "text/html": [
              "\n",
              "    <div>\n",
              "      \n",
              "      <progress value='150' max='150' style='width:300px; height:20px; vertical-align: middle;'></progress>\n",
              "      [150/150 00:42, Epoch 1/1]\n",
              "    </div>\n",
              "    <table border=\"1\" class=\"dataframe\">\n",
              "  <thead>\n",
              " <tr style=\"text-align: left;\">\n",
              "      <th>Epoch</th>\n",
              "      <th>Training Loss</th>\n",
              "      <th>Validation Loss</th>\n",
              "    </tr>\n",
              "  </thead>\n",
              "  <tbody>\n",
              "    <tr>\n",
              "      <td>1</td>\n",
              "      <td>0.462700</td>\n",
              "      <td>0.378625</td>\n",
              "    </tr>\n",
              "  </tbody>\n",
              "</table><p>"
            ],
            "text/plain": [
              "<IPython.core.display.HTML object>"
            ]
          },
          "metadata": {},
          "output_type": "display_data"
        },
        {
          "name": "stderr",
          "output_type": "stream",
          "text": [
            "***** Running Evaluation *****\n",
            "  Num examples = 400\n",
            "  Batch size = 8\n",
            "Saving model checkpoint to ./results/checkpoint-150\n",
            "Configuration saved in ./results/checkpoint-150/config.json\n",
            "Model weights saved in ./results/checkpoint-150/pytorch_model.bin\n",
            "\n",
            "\n",
            "Training completed. Do not forget to share your model on huggingface.co/models =)\n",
            "\n",
            "\n",
            "Loading best model from ./results/checkpoint-150 (score: 0.3786250948905945).\n",
            "Deleting older checkpoint [results/checkpoint-150] due to args.save_total_limit\n"
          ]
        },
        {
          "data": {
            "text/plain": [
              "TrainOutput(global_step=150, training_loss=0.3927660282452901, metrics={'train_runtime': 42.417, 'train_samples_per_second': 28.291, 'train_steps_per_second': 3.536, 'total_flos': 78938277580800.0, 'train_loss': 0.3927660282452901, 'epoch': 1.0})"
            ]
          },
          "execution_count": 22,
          "metadata": {},
          "output_type": "execute_result"
        }
      ],
      "source": [
        "# Train the model\n",
        "trainer.train()"
      ]
    },
    {
      "cell_type": "code",
      "execution_count": null,
      "metadata": {
        "colab": {
          "base_uri": "https://localhost:8080/"
        },
        "id": "PuMTEprE2Fbr",
        "outputId": "d272b160-d89d-4408-9dcf-2251d9220330"
      },
      "outputs": [
        {
          "name": "stderr",
          "output_type": "stream",
          "text": [
            "***** Running Evaluation *****\n",
            "  Num examples = 400\n",
            "  Batch size = 8\n"
          ]
        },
        {
          "data": {
            "text/html": [
              "\n",
              "    <div>\n",
              "      \n",
              "      <progress value='50' max='50' style='width:300px; height:20px; vertical-align: middle;'></progress>\n",
              "      [50/50 00:02]\n",
              "    </div>\n",
              "    "
            ],
            "text/plain": [
              "<IPython.core.display.HTML object>"
            ]
          },
          "metadata": {},
          "output_type": "display_data"
        },
        {
          "name": "stdout",
          "output_type": "stream",
          "text": [
            "{'eval_loss': 0.3786250948905945, 'eval_accuracy': 0.89, 'eval_precision': 0.8898941440458029, 'eval_recall': 0.89, 'eval_f1': 0.8881034492639839, 'eval_runtime': 3.0233, 'eval_samples_per_second': 132.304, 'eval_steps_per_second': 16.538, 'epoch': 1.0}\n"
          ]
        }
      ],
      "source": [
        "# Define the evaluation function to compute the evaluation metrics\n",
        "def compute_metrics(eval_pred):\n",
        "    y_true = eval_pred.label_ids\n",
        "    y_pred = eval_pred.predictions.argmax(-1)\n",
        "    precision, recall, f1, _ = precision_recall_fscore_support(y_true, y_pred, average='weighted')\n",
        "    acc = accuracy_score(y_true, y_pred)\n",
        "    return {'accuracy': acc, 'precision': precision, 'recall': recall, 'f1': f1}\n",
        "\n",
        "# Set the compute_metrics argument for the trainer\n",
        "trainer.compute_metrics = compute_metrics\n",
        "\n",
        "# Evaluate the model on the validation set and get the evaluation metrics\n",
        "eval_results = trainer.evaluate(eval_dataset=TextDataset(texts_val, labels_val_encoded, tokenizer))\n",
        "\n",
        "# Print the evaluation metrics\n",
        "print(eval_results)\n"
      ]
    },
    {
      "cell_type": "markdown",
      "metadata": {
        "id": "nEGUJQ-Vx8WZ"
      },
      "source": [
        "#### 3"
      ]
    },
    {
      "cell_type": "code",
      "execution_count": null,
      "metadata": {
        "colab": {
          "base_uri": "https://localhost:8080/"
        },
        "id": "c_LF3OW2vMTJ",
        "outputId": "0bf0892d-720b-4c58-a20b-0bfbfae832a7"
      },
      "outputs": [
        {
          "name": "stderr",
          "output_type": "stream",
          "text": [
            "PyTorch: setting up devices\n",
            "The default value for the training argument `--report_to` will change in v5 (from all installed integrations to none). In v5, you will need to use `--report_to all` to get the same behavior as now. You should start updating your code and make this info disappear :-).\n"
          ]
        }
      ],
      "source": [
        "training_args_3 = TrainingArguments(\n",
        "    output_dir='./results',\n",
        "    num_train_epochs=1,\n",
        "    per_device_train_batch_size=16,\n",
        "    per_device_eval_batch_size=16,\n",
        "    learning_rate=1e-5,\n",
        "    weight_decay=0,\n",
        "    logging_dir='./logs',\n",
        "    logging_steps=10,\n",
        "    evaluation_strategy='epoch',\n",
        "    save_total_limit=1,\n",
        "    save_strategy='epoch',\n",
        "    load_best_model_at_end=True,\n",
        ")\n",
        "\n",
        "\n",
        "# Define the trainer\n",
        "trainer = Trainer(\n",
        "    model=model,\n",
        "    args=training_args_3,\n",
        "    train_dataset=TextDataset(texts_train, labels_train_encoded, tokenizer),\n",
        "    eval_dataset=TextDataset(texts_val, labels_val_encoded, tokenizer),\n",
        "    data_collator=DataCollatorWithPadding(tokenizer=tokenizer),\n",
        ")"
      ]
    },
    {
      "cell_type": "code",
      "execution_count": null,
      "metadata": {
        "colab": {
          "base_uri": "https://localhost:8080/",
          "height": 560
        },
        "id": "GFuNAzAI3DTa",
        "outputId": "b2e1ed97-9143-43b5-ab53-0b50cbea1008"
      },
      "outputs": [
        {
          "name": "stderr",
          "output_type": "stream",
          "text": [
            "/usr/local/lib/python3.8/dist-packages/transformers/optimization.py:306: FutureWarning: This implementation of AdamW is deprecated and will be removed in a future version. Use the PyTorch implementation torch.optim.AdamW instead, or set `no_deprecation_warning=True` to disable this warning\n",
            "  warnings.warn(\n",
            "***** Running training *****\n",
            "  Num examples = 1200\n",
            "  Num Epochs = 1\n",
            "  Instantaneous batch size per device = 16\n",
            "  Total train batch size (w. parallel, distributed & accumulation) = 16\n",
            "  Gradient Accumulation steps = 1\n",
            "  Total optimization steps = 75\n",
            "  Number of trainable parameters = 124652553\n"
          ]
        },
        {
          "data": {
            "text/html": [
              "\n",
              "    <div>\n",
              "      \n",
              "      <progress value='75' max='75' style='width:300px; height:20px; vertical-align: middle;'></progress>\n",
              "      [75/75 00:38, Epoch 1/1]\n",
              "    </div>\n",
              "    <table border=\"1\" class=\"dataframe\">\n",
              "  <thead>\n",
              " <tr style=\"text-align: left;\">\n",
              "      <th>Epoch</th>\n",
              "      <th>Training Loss</th>\n",
              "      <th>Validation Loss</th>\n",
              "    </tr>\n",
              "  </thead>\n",
              "  <tbody>\n",
              "    <tr>\n",
              "      <td>1</td>\n",
              "      <td>0.370600</td>\n",
              "      <td>0.390733</td>\n",
              "    </tr>\n",
              "  </tbody>\n",
              "</table><p>"
            ],
            "text/plain": [
              "<IPython.core.display.HTML object>"
            ]
          },
          "metadata": {},
          "output_type": "display_data"
        },
        {
          "name": "stderr",
          "output_type": "stream",
          "text": [
            "***** Running Evaluation *****\n",
            "  Num examples = 400\n",
            "  Batch size = 16\n",
            "Saving model checkpoint to ./results/checkpoint-75\n",
            "Configuration saved in ./results/checkpoint-75/config.json\n",
            "Model weights saved in ./results/checkpoint-75/pytorch_model.bin\n",
            "\n",
            "\n",
            "Training completed. Do not forget to share your model on huggingface.co/models =)\n",
            "\n",
            "\n",
            "Loading best model from ./results/checkpoint-75 (score: 0.3907333016395569).\n",
            "Deleting older checkpoint [results/checkpoint-75] due to args.save_total_limit\n"
          ]
        },
        {
          "data": {
            "text/plain": [
              "TrainOutput(global_step=75, training_loss=0.20045955657958983, metrics={'train_runtime': 38.6784, 'train_samples_per_second': 31.025, 'train_steps_per_second': 1.939, 'total_flos': 78938277580800.0, 'train_loss': 0.20045955657958983, 'epoch': 1.0})"
            ]
          },
          "execution_count": 25,
          "metadata": {},
          "output_type": "execute_result"
        }
      ],
      "source": [
        "# Train the model\n",
        "trainer.train()"
      ]
    },
    {
      "cell_type": "code",
      "execution_count": null,
      "metadata": {
        "colab": {
          "base_uri": "https://localhost:8080/",
          "height": 126
        },
        "id": "MSPM2K5M3Fey",
        "outputId": "ec28e024-b522-4092-e67b-a74332c6cb9d"
      },
      "outputs": [
        {
          "name": "stderr",
          "output_type": "stream",
          "text": [
            "***** Running Evaluation *****\n",
            "  Num examples = 400\n",
            "  Batch size = 16\n"
          ]
        },
        {
          "data": {
            "text/html": [
              "\n",
              "    <div>\n",
              "      \n",
              "      <progress value='25' max='25' style='width:300px; height:20px; vertical-align: middle;'></progress>\n",
              "      [25/25 00:02]\n",
              "    </div>\n",
              "    "
            ],
            "text/plain": [
              "<IPython.core.display.HTML object>"
            ]
          },
          "metadata": {},
          "output_type": "display_data"
        },
        {
          "name": "stdout",
          "output_type": "stream",
          "text": [
            "{'eval_loss': 0.3907333016395569, 'eval_accuracy': 0.895, 'eval_precision': 0.8950290914238036, 'eval_recall': 0.895, 'eval_f1': 0.8947366971770027, 'eval_runtime': 3.0762, 'eval_samples_per_second': 130.03, 'eval_steps_per_second': 8.127, 'epoch': 1.0}\n"
          ]
        }
      ],
      "source": [
        "# Define the evaluation function to compute the evaluation metrics\n",
        "def compute_metrics(eval_pred):\n",
        "    y_true = eval_pred.label_ids\n",
        "    y_pred = eval_pred.predictions.argmax(-1)\n",
        "    precision, recall, f1, _ = precision_recall_fscore_support(y_true, y_pred, average='weighted')\n",
        "    acc = accuracy_score(y_true, y_pred)\n",
        "    return {'accuracy': acc, 'precision': precision, 'recall': recall, 'f1': f1}\n",
        "\n",
        "# Set the compute_metrics argument for the trainer\n",
        "trainer.compute_metrics = compute_metrics\n",
        "\n",
        "# Evaluate the model on the validation set and get the evaluation metrics\n",
        "eval_results = trainer.evaluate(eval_dataset=TextDataset(texts_val, labels_val_encoded, tokenizer))\n",
        "\n",
        "# Print the evaluation metrics\n",
        "print(eval_results)\n"
      ]
    },
    {
      "cell_type": "markdown",
      "metadata": {
        "id": "uA3uyCmdtmK2"
      },
      "source": [
        "## Q6 - Conclusions and Future Work"
      ]
    },
    {
      "cell_type": "markdown",
      "metadata": {
        "id": "zTFOqEtNZOZ3"
      },
      "source": [
        "### (c)3 is the best model"
      ]
    },
    {
      "cell_type": "code",
      "execution_count": null,
      "metadata": {
        "colab": {
          "base_uri": "https://localhost:8080/",
          "height": 69
        },
        "id": "NzA5wi7Ytuq-",
        "outputId": "f74010ff-dd77-44dd-c882-b6a5c48a0a42"
      },
      "outputs": [
        {
          "name": "stderr",
          "output_type": "stream",
          "text": [
            "***** Running Prediction *****\n",
            "  Num examples = 400\n",
            "  Batch size = 16\n"
          ]
        },
        {
          "data": {
            "text/html": [],
            "text/plain": [
              "<IPython.core.display.HTML object>"
            ]
          },
          "metadata": {},
          "output_type": "display_data"
        }
      ],
      "source": [
        "test_dataset = TextDataset(texts_test, labels_test_encoded, tokenizer)\n",
        "\n",
        "# Use the predict method of the trainer to generate predictions on the test set\n",
        "prediction_output = trainer.predict(test_dataset)"
      ]
    },
    {
      "cell_type": "code",
      "execution_count": null,
      "metadata": {
        "colab": {
          "base_uri": "https://localhost:8080/"
        },
        "id": "YQz-IWudbVF_",
        "outputId": "349ba250-0edc-4a03-be5e-40d0ab344717"
      },
      "outputs": [
        {
          "name": "stdout",
          "output_type": "stream",
          "text": [
            "Accuracy: 0.84\n",
            "Precision: 0.8444755772955531\n",
            "Recall: 0.84\n",
            "F1 Score: 0.8406764537503767\n"
          ]
        }
      ],
      "source": [
        "# print(prediction_output)\n",
        "predictions = prediction_output[0]\n",
        "label_ids = prediction_output[1]\n",
        "# Print the evaluation metrics\n",
        "print(f\"Accuracy: {prediction_output[2]['test_accuracy']}\")\n",
        "print(f\"Precision: {prediction_output[2]['test_precision']}\")\n",
        "print(f\"Recall: {prediction_output[2]['test_recall']}\")\n",
        "print(f\"F1 Score: {prediction_output[2]['test_f1']}\")"
      ]
    },
    {
      "cell_type": "code",
      "execution_count": null,
      "metadata": {
        "colab": {
          "base_uri": "https://localhost:8080/"
        },
        "id": "B6OswrmxcL4P",
        "outputId": "b64e6680-734c-4013-e741-d7732990ab4c"
      },
      "outputs": [
        {
          "name": "stdout",
          "output_type": "stream",
          "text": [
            "Predicted: [5, 8, 5, 0, 1, 5, 1, 5, 1, 8, 0, 3, 7, 6, 2, 7, 8, 6, 8, 8, 6, 5, 8, 3, 1, 0, 4, 5, 8, 3, 1, 7, 5, 7, 3, 0, 8, 5, 2, 6, 8, 6, 8, 7, 1, 7, 1, 5, 5, 0, 3, 6, 4, 0, 0, 3, 1, 1, 5, 5, 3, 0, 6, 0, 7, 0, 0, 8, 8, 1, 5, 1, 6, 4, 1, 2, 7, 6, 8, 5, 5, 1, 3, 3, 4, 0, 2, 6, 4, 6, 4, 0, 6, 4, 4, 5, 1, 2, 1, 5, 6, 1, 4, 7, 0, 5, 5, 6, 6, 4, 2, 3, 5, 3, 2, 6, 5, 8, 2, 3, 1, 2, 3, 7, 6, 6, 3, 4, 2, 1, 8, 0, 5, 8, 6, 8, 7, 5, 0, 8, 4, 4, 7, 6, 0, 6, 2, 5, 0, 1, 5, 5, 5, 2, 7, 7, 7, 7, 7, 8, 3, 4, 8, 5, 6, 6, 0, 6, 7, 5, 6, 6, 7, 1, 5, 8, 0, 0, 5, 2, 5, 2, 2, 1, 0, 8, 0, 3, 5, 4, 8, 5, 1, 7, 5, 1, 5, 0, 3, 6, 3, 6, 0, 7, 5, 6, 6, 3, 6, 0, 1, 6, 6, 4, 0, 2, 2, 4, 7, 1, 8, 0, 7, 4, 8, 4, 7, 2, 6, 6, 0, 8, 2, 0, 6, 8, 1, 6, 2, 1, 0, 6, 7, 5, 2, 2, 6, 6, 4, 6, 7, 5, 5, 3, 7, 5, 3, 8, 8, 7, 2, 3, 8, 1, 1, 5, 3, 1, 8, 1, 6, 6, 6, 5, 7, 5, 8, 2, 2, 2, 8, 4, 6, 2, 6, 7, 1, 7, 3, 7, 7, 0, 7, 7, 3, 2, 2, 3, 5, 0, 7, 4, 7, 6, 1, 6, 8, 5, 0, 2, 8, 5, 8, 0, 2, 2, 3, 4, 3, 1, 5, 5, 3, 2, 6, 8, 0, 2, 3, 8, 7, 4, 1, 7, 1, 2, 1, 7, 1, 3, 1, 7, 3, 2, 6, 6, 3, 0, 7, 6, 7, 2, 0, 7, 2, 5, 1, 3, 2, 8, 6, 2, 6, 3, 0, 1, 5, 1, 0, 3, 4, 3, 3, 3, 3, 0, 0, 8, 1, 5, 3, 0, 6, 7, 6, 2, 7, 2, 3, 7, 0, 1, 2, 1, 5, 3, 3, 7, 0, 6]\n",
            "------------------------------------------------\n",
            "True: [5 3 5 0 1 5 1 5 1 6 0 2 7 6 8 7 2 2 8 8 6 5 8 3 1 0 4 5 8 3 1 7 5 7 8 0 8\n",
            " 5 2 6 8 0 3 7 1 7 1 5 5 0 3 6 4 0 0 3 1 1 5 5 3 0 6 0 7 0 0 6 8 1 3 1 6 1\n",
            " 1 2 7 3 8 5 5 1 3 3 7 0 2 6 4 6 4 0 6 4 4 5 1 2 1 5 6 1 4 7 0 8 5 6 6 4 8\n",
            " 3 5 2 2 2 5 8 2 8 1 2 7 7 2 3 6 4 2 1 8 0 5 8 8 2 7 5 0 6 4 4 7 8 1 8 3 5\n",
            " 0 1 5 5 5 2 4 7 7 7 7 8 3 4 8 5 3 2 0 6 7 5 6 6 7 1 5 8 0 7 5 2 5 2 3 1 0\n",
            " 8 0 3 5 4 8 5 1 7 5 1 5 0 3 3 8 2 0 7 5 6 6 3 6 0 1 6 3 4 0 2 6 5 7 1 8 0\n",
            " 7 4 3 4 7 2 6 6 0 8 2 0 6 8 1 6 2 1 0 6 7 5 2 2 6 6 4 2 7 5 1 5 7 5 3 8 8\n",
            " 7 2 3 8 1 1 5 3 1 2 1 6 3 6 5 7 5 8 2 6 2 6 4 6 2 6 7 1 7 3 7 7 0 7 7 3 3\n",
            " 2 6 5 0 7 4 7 6 1 6 8 5 0 6 8 5 8 0 2 2 6 4 8 1 5 5 3 2 6 8 0 2 3 8 7 4 1\n",
            " 5 1 2 1 7 1 2 0 7 3 2 6 3 3 0 7 6 7 2 0 7 2 5 1 2 2 8 6 2 6 3 0 1 5 1 0 3\n",
            " 4 3 3 2 3 0 0 8 1 7 3 0 2 7 8 2 7 2 3 7 0 1 2 1 5 2 3 7 0 6]\n"
          ]
        }
      ],
      "source": [
        "# Get the predicted label for each example in the test set\n",
        "predicted_labels = [x for x in predictions.argmax(axis=1)]\n",
        "print(f\"Predicted: {predicted_labels}\")\n",
        "print(\"------------------------------------------------\")\n",
        "print(f\"True: {labels_test_encoded}\")"
      ]
    },
    {
      "cell_type": "code",
      "execution_count": null,
      "metadata": {
        "colab": {
          "base_uri": "https://localhost:8080/",
          "height": 348
        },
        "id": "aRuSlZMEb3Wg",
        "outputId": "d054e2cf-fcab-4e63-d76a-73aaa053568c"
      },
      "outputs": [
        {
          "data": {
            "image/png": "[encoded data removed]",
            "text/plain": [
              "<Figure size 432x288 with 2 Axes>"
            ]
          },
          "metadata": {
            "needs_background": "light"
          },
          "output_type": "display_data"
        }
      ],
      "source": [
        "from sklearn.metrics import confusion_matrix, precision_recall_fscore_support, accuracy_score\n",
        "import seaborn as sns\n",
        "import matplotlib.pyplot as plt\n",
        "\n",
        "y_true = labels_test_encoded\n",
        "label_keys = label_encoder.classes_\n",
        "\n",
        "# Compute the confusion matrix\n",
        "cm = confusion_matrix(y_true, predicted_labels)\n",
        "\n",
        "# Plot the confusion matrix as a heatmap\n",
        "sns.heatmap(cm, annot=True, cmap='Blues', fmt='g', xticklabels=label_keys, yticklabels=label_keys)\n",
        "plt.xlabel('Predicted labels')\n",
        "plt.ylabel('True labels')\n",
        "plt.show()\n"
      ]
    },
    {
      "cell_type": "code",
      "execution_count": null,
      "metadata": {
        "colab": {
          "base_uri": "https://localhost:8080/"
        },
        "id": "1OeZ7xt4uQFs",
        "outputId": "dbf53512-10e6-4424-a1b0-5ceb7cfd8419"
      },
      "outputs": [
        {
          "name": "stdout",
          "output_type": "stream",
          "text": [
            "<class 'numpy.ndarray'>\n",
            "True label is PS4 \n",
            "Text is \n",
            "Is there an effective way for me to report an online user to somebody that can help with suicide intervention? An online friend (I don't know their personal details) has reached out to me and said that if they don't feel better in a fewdays, that they'll end it all. I'm concerned for their welfare!\n",
            "I just want to start by saying that I apologise if this is in the wrong place - please redirect my post as I consider suicide themes imporant to address. \n",
            "​\n",
            "I don't know the best approach here. I've known the guy for a few years, but only through a mutual game and we have mostly surface conversations. That is up until last night, I was about to leave a party that him and I had formed (just text chatting through the in-game system), and he suddenly said \"hold up\". I asked if everything was ok. That must have been the tipping point for him (I don't think anybodies really asked him out-right) and he said that he just doesn't want to be alive anymore, and that he keeps thinking about ending it. \n",
            "I appeared tender and understanding (which I was), but could see red flags going up all around me. I tried to listen, and absorb his concerns. Clearly he's had no outlet for a long time. He really appreciated my help. But then he told me that he's going to need me a lot over the next few days, because if he doesn't feel any better by the weekend he's going to just finish it. I told him that I can't be responsible for his life or death, and that I don't deserve to have his fate weighing over me, that he deserves a long, full life and only he can make an active effort to start putting a true plan in place. but that if he needs to talk to reach out to me (or family). He seemed content with that, but I didn't like the oddly calm end to our conversation. \n",
            "How can help this guy if all I have is his username? \n",
            "Thanks in advance, once again if this is the wrong place for this i'd love to be redirected. I know the numbers for crisis lines, but I don't know if they are applicable since i'd literally be telling someone to follow a playstation ID.\n",
            "-----------\n",
            "True label is xbox \n",
            "Text is \n",
            "I was ddos'd, my city was named, and I was kicked from a party by a person who wasn't the party leader, nor was he in the party.\n",
            "Hi, I have a question. Someone joined our party. 1. He said my city, state and I live in a smaller city that goes to a big city, so to name my specific city is scary to say the least. 2. He kept kicking us out of the party despite the fact that he was not the party leader. This was most definitely being done by a kid. So, what am I supposed to do when this happens? Other than report it, is there any other recourse?\n",
            "-----------\n",
            "True label is HydroHomies \n",
            "Text is \n",
            "We hate Nestlé. Here is some cited work on the atrocities they've committed. Citations in comments.\n",
            "Sorry for the screenshots but the text of my post kept getting deleted. I wrote this as a senior project for my B.S. in Environmental Policy as an undergrad. If you have any questions feel free to ask because the paper is \\~30 pages and I just chose a few examples. Citations with clickable links in the comments.\n",
            "https://imgur.com/gallery/OwXruO8\n",
            "​\n",
            "Please spread this as much as possible. I am getting my M.S. in Environmental Policy before going to law school with the mission of ensuring that water is a publicly available and free commodity. I want as many people to know what Nestlé has done as possible. Thanks for the read and stay hydrated my friends.\n",
            "-----------\n",
            "True label is tea \n",
            "Text is \n",
            "I'd like to attempt to get into yerba mate. Can anyone help?\n",
            "I've read some Argentinian literature in the past month or so. Mate is regularly mentioned, and now I want to try it.\n",
            "I've been looking at starter kits here: http://www.mymateworld.com/catalog/index.php?cPath=1\n",
            "Can anyone lend some advice? \n",
            "-----------\n"
          ]
        }
      ],
      "source": [
        "# check the wrong predicted labels which are antiMLM\n",
        "print(type(labels_test_encoded))\n",
        "true_test_labels = list(labels_test_encoded)\n",
        "for i in range(len(predicted_labels)):\n",
        "  if predicted_labels[i] == 5 and true_test_labels[i] !=5:\n",
        "    print(f\"True label is {label_keys[true_test_labels[i]]} \\nText is \\n{texts_test[i]}\")\n",
        "    print(\"-----------\")"
      ]
    }
  ],
  "metadata": {
    "colab": {
      "collapsed_sections": [
        "CBC1thr0F_KK",
        "xrDFWkjfHWIA",
        "2c9zuaxBmO_h",
        "VCUB2EKe7vHj",
        "m8HgomJrNovW",
        "rbwfaZ4FUF_x",
        "O3yhRzzGYLuh",
        "cehThC4HXl3U",
        "62TOjNq0BrXl",
        "CgaokQSU_V2-",
        "fnt-b79PBr7b",
        "lYRyhB4zwaUJ",
        "CF34_AYXx6Sp",
        "nEGUJQ-Vx8WZ"
      ],
      "provenance": []
    },
    "gpuClass": "standard",
    "kernelspec": {
      "display_name": "Python 3",
      "name": "python3"
    },
    "language_info": {
      "name": "python"
    },
    "widgets": {
      "application/vnd.jupyter.widget-state+json": {
        "07ff01d2161444c2a6e513b5cae39a5f": {
          "model_module": "@jupyter-widgets/base",
          "model_module_version": "1.2.0",
          "model_name": "LayoutModel",
          "state": {
            "_model_module": "@jupyter-widgets/base",
            "_model_module_version": "1.2.0",
            "_model_name": "LayoutModel",
            "_view_count": null,
            "_view_module": "@jupyter-widgets/base",
            "_view_module_version": "1.2.0",
            "_view_name": "LayoutView",
            "align_content": null,
            "align_items": null,
            "align_self": null,
            "border": null,
            "bottom": null,
            "display": null,
            "flex": null,
            "flex_flow": null,
            "grid_area": null,
            "grid_auto_columns": null,
            "grid_auto_flow": null,
            "grid_auto_rows": null,
            "grid_column": null,
            "grid_gap": null,
            "grid_row": null,
            "grid_template_areas": null,
            "grid_template_columns": null,
            "grid_template_rows": null,
            "height": null,
            "justify_content": null,
            "justify_items": null,
            "left": null,
            "margin": null,
            "max_height": null,
            "max_width": null,
            "min_height": null,
            "min_width": null,
            "object_fit": null,
            "object_position": null,
            "order": null,
            "overflow": null,
            "overflow_x": null,
            "overflow_y": null,
            "padding": null,
            "right": null,
            "top": null,
            "visibility": null,
            "width": null
          }
        },
        "0a4f57226f6b4cb4bd50f111f637f0ef": {
          "model_module": "@jupyter-widgets/controls",
          "model_module_version": "1.5.0",
          "model_name": "HTMLModel",
          "state": {
            "_dom_classes": [],
            "_model_module": "@jupyter-widgets/controls",
            "_model_module_version": "1.5.0",
            "_model_name": "HTMLModel",
            "_view_count": null,
            "_view_module": "@jupyter-widgets/controls",
            "_view_module_version": "1.5.0",
            "_view_name": "HTMLView",
            "description": "",
            "description_tooltip": null,
            "layout": "IPY_MODEL_84ed3323f4d7435c96f976134b64b3d0",
            "placeholder": "​",
            "style": "IPY_MODEL_e1cb7a29e0ee4f9ca286286fc5872006",
            "value": "Downloading (…)olve/main/vocab.json: 100%"
          }
        },
        "0d6639db921544a799844fe029b74900": {
          "model_module": "@jupyter-widgets/controls",
          "model_module_version": "1.5.0",
          "model_name": "HTMLModel",
          "state": {
            "_dom_classes": [],
            "_model_module": "@jupyter-widgets/controls",
            "_model_module_version": "1.5.0",
            "_model_name": "HTMLModel",
            "_view_count": null,
            "_view_module": "@jupyter-widgets/controls",
            "_view_module_version": "1.5.0",
            "_view_name": "HTMLView",
            "description": "",
            "description_tooltip": null,
            "layout": "IPY_MODEL_96ccd1ff2b6c4bb4abd3693a1f094239",
            "placeholder": "​",
            "style": "IPY_MODEL_d4f3ba8bdf4f47fc9d756cba7fcfff99",
            "value": " 899k/899k [00:01&lt;00:00, 807kB/s]"
          }
        },
        "1492fe75daad414790184cd51cc59bc0": {
          "model_module": "@jupyter-widgets/controls",
          "model_module_version": "1.5.0",
          "model_name": "FloatProgressModel",
          "state": {
            "_dom_classes": [],
            "_model_module": "@jupyter-widgets/controls",
            "_model_module_version": "1.5.0",
            "_model_name": "FloatProgressModel",
            "_view_count": null,
            "_view_module": "@jupyter-widgets/controls",
            "_view_module_version": "1.5.0",
            "_view_name": "ProgressView",
            "bar_style": "success",
            "description": "",
            "description_tooltip": null,
            "layout": "IPY_MODEL_eaa888c005ec4ff692fe006fea3270e1",
            "max": 456318,
            "min": 0,
            "orientation": "horizontal",
            "style": "IPY_MODEL_8b6334d0bfcf40639cfbcec1dd32a6e1",
            "value": 456318
          }
        },
        "2b9698cc850e46a4940cfbc2a09cc333": {
          "model_module": "@jupyter-widgets/controls",
          "model_module_version": "1.5.0",
          "model_name": "DescriptionStyleModel",
          "state": {
            "_model_module": "@jupyter-widgets/controls",
            "_model_module_version": "1.5.0",
            "_model_name": "DescriptionStyleModel",
            "_view_count": null,
            "_view_module": "@jupyter-widgets/base",
            "_view_module_version": "1.2.0",
            "_view_name": "StyleView",
            "description_width": ""
          }
        },
        "2cfddb0d17204ac3a177aa2142ae0e22": {
          "model_module": "@jupyter-widgets/controls",
          "model_module_version": "1.5.0",
          "model_name": "DescriptionStyleModel",
          "state": {
            "_model_module": "@jupyter-widgets/controls",
            "_model_module_version": "1.5.0",
            "_model_name": "DescriptionStyleModel",
            "_view_count": null,
            "_view_module": "@jupyter-widgets/base",
            "_view_module_version": "1.2.0",
            "_view_name": "StyleView",
            "description_width": ""
          }
        },
        "30e6d7c929e1425bab73ccf4d7e78d9b": {
          "model_module": "@jupyter-widgets/controls",
          "model_module_version": "1.5.0",
          "model_name": "ProgressStyleModel",
          "state": {
            "_model_module": "@jupyter-widgets/controls",
            "_model_module_version": "1.5.0",
            "_model_name": "ProgressStyleModel",
            "_view_count": null,
            "_view_module": "@jupyter-widgets/base",
            "_view_module_version": "1.2.0",
            "_view_name": "StyleView",
            "bar_color": null,
            "description_width": ""
          }
        },
        "320b5a319b164f6a9d3220f108a78e3f": {
          "model_module": "@jupyter-widgets/base",
          "model_module_version": "1.2.0",
          "model_name": "LayoutModel",
          "state": {
            "_model_module": "@jupyter-widgets/base",
            "_model_module_version": "1.2.0",
            "_model_name": "LayoutModel",
            "_view_count": null,
            "_view_module": "@jupyter-widgets/base",
            "_view_module_version": "1.2.0",
            "_view_name": "LayoutView",
            "align_content": null,
            "align_items": null,
            "align_self": null,
            "border": null,
            "bottom": null,
            "display": null,
            "flex": null,
            "flex_flow": null,
            "grid_area": null,
            "grid_auto_columns": null,
            "grid_auto_flow": null,
            "grid_auto_rows": null,
            "grid_column": null,
            "grid_gap": null,
            "grid_row": null,
            "grid_template_areas": null,
            "grid_template_columns": null,
            "grid_template_rows": null,
            "height": null,
            "justify_content": null,
            "justify_items": null,
            "left": null,
            "margin": null,
            "max_height": null,
            "max_width": null,
            "min_height": null,
            "min_width": null,
            "object_fit": null,
            "object_position": null,
            "order": null,
            "overflow": null,
            "overflow_x": null,
            "overflow_y": null,
            "padding": null,
            "right": null,
            "top": null,
            "visibility": null,
            "width": null
          }
        },
        "32cce2193b76495dabd165dde1280ac0": {
          "model_module": "@jupyter-widgets/controls",
          "model_module_version": "1.5.0",
          "model_name": "HTMLModel",
          "state": {
            "_dom_classes": [],
            "_model_module": "@jupyter-widgets/controls",
            "_model_module_version": "1.5.0",
            "_model_name": "HTMLModel",
            "_view_count": null,
            "_view_module": "@jupyter-widgets/controls",
            "_view_module_version": "1.5.0",
            "_view_name": "HTMLView",
            "description": "",
            "description_tooltip": null,
            "layout": "IPY_MODEL_f2cabe4ed7b0417e9956120e8a62f9f3",
            "placeholder": "​",
            "style": "IPY_MODEL_3b1efb3759ed4e77ad9f3fb704842334",
            "value": " 1.36M/1.36M [00:01&lt;00:00, 1.19MB/s]"
          }
        },
        "34b1326c60e14aa9b031da9027b63963": {
          "model_module": "@jupyter-widgets/controls",
          "model_module_version": "1.5.0",
          "model_name": "HTMLModel",
          "state": {
            "_dom_classes": [],
            "_model_module": "@jupyter-widgets/controls",
            "_model_module_version": "1.5.0",
            "_model_name": "HTMLModel",
            "_view_count": null,
            "_view_module": "@jupyter-widgets/controls",
            "_view_module_version": "1.5.0",
            "_view_name": "HTMLView",
            "description": "",
            "description_tooltip": null,
            "layout": "IPY_MODEL_36544862396245ecb190e1e1f4f2b19b",
            "placeholder": "​",
            "style": "IPY_MODEL_851aec4e4fc141bd88ffc89dc9d34d60",
            "value": "Downloading (…)&quot;pytorch_model.bin&quot;;: 100%"
          }
        },
        "36544862396245ecb190e1e1f4f2b19b": {
          "model_module": "@jupyter-widgets/base",
          "model_module_version": "1.2.0",
          "model_name": "LayoutModel",
          "state": {
            "_model_module": "@jupyter-widgets/base",
            "_model_module_version": "1.2.0",
            "_model_name": "LayoutModel",
            "_view_count": null,
            "_view_module": "@jupyter-widgets/base",
            "_view_module_version": "1.2.0",
            "_view_name": "LayoutView",
            "align_content": null,
            "align_items": null,
            "align_self": null,
            "border": null,
            "bottom": null,
            "display": null,
            "flex": null,
            "flex_flow": null,
            "grid_area": null,
            "grid_auto_columns": null,
            "grid_auto_flow": null,
            "grid_auto_rows": null,
            "grid_column": null,
            "grid_gap": null,
            "grid_row": null,
            "grid_template_areas": null,
            "grid_template_columns": null,
            "grid_template_rows": null,
            "height": null,
            "justify_content": null,
            "justify_items": null,
            "left": null,
            "margin": null,
            "max_height": null,
            "max_width": null,
            "min_height": null,
            "min_width": null,
            "object_fit": null,
            "object_position": null,
            "order": null,
            "overflow": null,
            "overflow_x": null,
            "overflow_y": null,
            "padding": null,
            "right": null,
            "top": null,
            "visibility": null,
            "width": null
          }
        },
        "3b1efb3759ed4e77ad9f3fb704842334": {
          "model_module": "@jupyter-widgets/controls",
          "model_module_version": "1.5.0",
          "model_name": "DescriptionStyleModel",
          "state": {
            "_model_module": "@jupyter-widgets/controls",
            "_model_module_version": "1.5.0",
            "_model_name": "DescriptionStyleModel",
            "_view_count": null,
            "_view_module": "@jupyter-widgets/base",
            "_view_module_version": "1.2.0",
            "_view_name": "StyleView",
            "description_width": ""
          }
        },
        "4b60be16287e4de6af7e8d09e13d948f": {
          "model_module": "@jupyter-widgets/base",
          "model_module_version": "1.2.0",
          "model_name": "LayoutModel",
          "state": {
            "_model_module": "@jupyter-widgets/base",
            "_model_module_version": "1.2.0",
            "_model_name": "LayoutModel",
            "_view_count": null,
            "_view_module": "@jupyter-widgets/base",
            "_view_module_version": "1.2.0",
            "_view_name": "LayoutView",
            "align_content": null,
            "align_items": null,
            "align_self": null,
            "border": null,
            "bottom": null,
            "display": null,
            "flex": null,
            "flex_flow": null,
            "grid_area": null,
            "grid_auto_columns": null,
            "grid_auto_flow": null,
            "grid_auto_rows": null,
            "grid_column": null,
            "grid_gap": null,
            "grid_row": null,
            "grid_template_areas": null,
            "grid_template_columns": null,
            "grid_template_rows": null,
            "height": null,
            "justify_content": null,
            "justify_items": null,
            "left": null,
            "margin": null,
            "max_height": null,
            "max_width": null,
            "min_height": null,
            "min_width": null,
            "object_fit": null,
            "object_position": null,
            "order": null,
            "overflow": null,
            "overflow_x": null,
            "overflow_y": null,
            "padding": null,
            "right": null,
            "top": null,
            "visibility": null,
            "width": null
          }
        },
        "4c18c827a2464c16bb70ac5c34cd3560": {
          "model_module": "@jupyter-widgets/controls",
          "model_module_version": "1.5.0",
          "model_name": "ProgressStyleModel",
          "state": {
            "_model_module": "@jupyter-widgets/controls",
            "_model_module_version": "1.5.0",
            "_model_name": "ProgressStyleModel",
            "_view_count": null,
            "_view_module": "@jupyter-widgets/base",
            "_view_module_version": "1.2.0",
            "_view_name": "StyleView",
            "bar_color": null,
            "description_width": ""
          }
        },
        "4c5cb9d596b74bb5b9d6296f22c9f439": {
          "model_module": "@jupyter-widgets/base",
          "model_module_version": "1.2.0",
          "model_name": "LayoutModel",
          "state": {
            "_model_module": "@jupyter-widgets/base",
            "_model_module_version": "1.2.0",
            "_model_name": "LayoutModel",
            "_view_count": null,
            "_view_module": "@jupyter-widgets/base",
            "_view_module_version": "1.2.0",
            "_view_name": "LayoutView",
            "align_content": null,
            "align_items": null,
            "align_self": null,
            "border": null,
            "bottom": null,
            "display": null,
            "flex": null,
            "flex_flow": null,
            "grid_area": null,
            "grid_auto_columns": null,
            "grid_auto_flow": null,
            "grid_auto_rows": null,
            "grid_column": null,
            "grid_gap": null,
            "grid_row": null,
            "grid_template_areas": null,
            "grid_template_columns": null,
            "grid_template_rows": null,
            "height": null,
            "justify_content": null,
            "justify_items": null,
            "left": null,
            "margin": null,
            "max_height": null,
            "max_width": null,
            "min_height": null,
            "min_width": null,
            "object_fit": null,
            "object_position": null,
            "order": null,
            "overflow": null,
            "overflow_x": null,
            "overflow_y": null,
            "padding": null,
            "right": null,
            "top": null,
            "visibility": null,
            "width": null
          }
        },
        "524c4f39f8764478ad45310f9a37f9a9": {
          "model_module": "@jupyter-widgets/controls",
          "model_module_version": "1.5.0",
          "model_name": "FloatProgressModel",
          "state": {
            "_dom_classes": [],
            "_model_module": "@jupyter-widgets/controls",
            "_model_module_version": "1.5.0",
            "_model_name": "FloatProgressModel",
            "_view_count": null,
            "_view_module": "@jupyter-widgets/controls",
            "_view_module_version": "1.5.0",
            "_view_name": "ProgressView",
            "bar_style": "success",
            "description": "",
            "description_tooltip": null,
            "layout": "IPY_MODEL_4c5cb9d596b74bb5b9d6296f22c9f439",
            "max": 898823,
            "min": 0,
            "orientation": "horizontal",
            "style": "IPY_MODEL_4c18c827a2464c16bb70ac5c34cd3560",
            "value": 898823
          }
        },
        "58a722649fc542ebaf0e4d0025a3ccc4": {
          "model_module": "@jupyter-widgets/base",
          "model_module_version": "1.2.0",
          "model_name": "LayoutModel",
          "state": {
            "_model_module": "@jupyter-widgets/base",
            "_model_module_version": "1.2.0",
            "_model_name": "LayoutModel",
            "_view_count": null,
            "_view_module": "@jupyter-widgets/base",
            "_view_module_version": "1.2.0",
            "_view_name": "LayoutView",
            "align_content": null,
            "align_items": null,
            "align_self": null,
            "border": null,
            "bottom": null,
            "display": null,
            "flex": null,
            "flex_flow": null,
            "grid_area": null,
            "grid_auto_columns": null,
            "grid_auto_flow": null,
            "grid_auto_rows": null,
            "grid_column": null,
            "grid_gap": null,
            "grid_row": null,
            "grid_template_areas": null,
            "grid_template_columns": null,
            "grid_template_rows": null,
            "height": null,
            "justify_content": null,
            "justify_items": null,
            "left": null,
            "margin": null,
            "max_height": null,
            "max_width": null,
            "min_height": null,
            "min_width": null,
            "object_fit": null,
            "object_position": null,
            "order": null,
            "overflow": null,
            "overflow_x": null,
            "overflow_y": null,
            "padding": null,
            "right": null,
            "top": null,
            "visibility": null,
            "width": null
          }
        },
        "5998b9b5abc54d20aef731a5575a530e": {
          "model_module": "@jupyter-widgets/base",
          "model_module_version": "1.2.0",
          "model_name": "LayoutModel",
          "state": {
            "_model_module": "@jupyter-widgets/base",
            "_model_module_version": "1.2.0",
            "_model_name": "LayoutModel",
            "_view_count": null,
            "_view_module": "@jupyter-widgets/base",
            "_view_module_version": "1.2.0",
            "_view_name": "LayoutView",
            "align_content": null,
            "align_items": null,
            "align_self": null,
            "border": null,
            "bottom": null,
            "display": null,
            "flex": null,
            "flex_flow": null,
            "grid_area": null,
            "grid_auto_columns": null,
            "grid_auto_flow": null,
            "grid_auto_rows": null,
            "grid_column": null,
            "grid_gap": null,
            "grid_row": null,
            "grid_template_areas": null,
            "grid_template_columns": null,
            "grid_template_rows": null,
            "height": null,
            "justify_content": null,
            "justify_items": null,
            "left": null,
            "margin": null,
            "max_height": null,
            "max_width": null,
            "min_height": null,
            "min_width": null,
            "object_fit": null,
            "object_position": null,
            "order": null,
            "overflow": null,
            "overflow_x": null,
            "overflow_y": null,
            "padding": null,
            "right": null,
            "top": null,
            "visibility": null,
            "width": null
          }
        },
        "599d07d56b71455b82d203e8fe9c69f4": {
          "model_module": "@jupyter-widgets/controls",
          "model_module_version": "1.5.0",
          "model_name": "HBoxModel",
          "state": {
            "_dom_classes": [],
            "_model_module": "@jupyter-widgets/controls",
            "_model_module_version": "1.5.0",
            "_model_name": "HBoxModel",
            "_view_count": null,
            "_view_module": "@jupyter-widgets/controls",
            "_view_module_version": "1.5.0",
            "_view_name": "HBoxView",
            "box_style": "",
            "children": [
              "IPY_MODEL_0a4f57226f6b4cb4bd50f111f637f0ef",
              "IPY_MODEL_524c4f39f8764478ad45310f9a37f9a9",
              "IPY_MODEL_0d6639db921544a799844fe029b74900"
            ],
            "layout": "IPY_MODEL_320b5a319b164f6a9d3220f108a78e3f"
          }
        },
        "5b37a3d734394271810b02bcbc525887": {
          "model_module": "@jupyter-widgets/controls",
          "model_module_version": "1.5.0",
          "model_name": "HBoxModel",
          "state": {
            "_dom_classes": [],
            "_model_module": "@jupyter-widgets/controls",
            "_model_module_version": "1.5.0",
            "_model_name": "HBoxModel",
            "_view_count": null,
            "_view_module": "@jupyter-widgets/controls",
            "_view_module_version": "1.5.0",
            "_view_name": "HBoxView",
            "box_style": "",
            "children": [
              "IPY_MODEL_89113a19df1a4711aae17225e16481a8",
              "IPY_MODEL_1492fe75daad414790184cd51cc59bc0",
              "IPY_MODEL_dd3e110b11fe4cd0872feec29eb0cb29"
            ],
            "layout": "IPY_MODEL_8e09edb31d0747b7b208e8dbaa1e1a29"
          }
        },
        "6e7812ba271145419342413c53670d3f": {
          "model_module": "@jupyter-widgets/controls",
          "model_module_version": "1.5.0",
          "model_name": "HTMLModel",
          "state": {
            "_dom_classes": [],
            "_model_module": "@jupyter-widgets/controls",
            "_model_module_version": "1.5.0",
            "_model_name": "HTMLModel",
            "_view_count": null,
            "_view_module": "@jupyter-widgets/controls",
            "_view_module_version": "1.5.0",
            "_view_name": "HTMLView",
            "description": "",
            "description_tooltip": null,
            "layout": "IPY_MODEL_9ffaa2874d774850a26c4356ed546606",
            "placeholder": "​",
            "style": "IPY_MODEL_e0e6a8e04ece468aafbd98cba21522b8",
            "value": "Downloading (…)lve/main/config.json: 100%"
          }
        },
        "7880319948c9425f8f390847267799f3": {
          "model_module": "@jupyter-widgets/controls",
          "model_module_version": "1.5.0",
          "model_name": "DescriptionStyleModel",
          "state": {
            "_model_module": "@jupyter-widgets/controls",
            "_model_module_version": "1.5.0",
            "_model_name": "DescriptionStyleModel",
            "_view_count": null,
            "_view_module": "@jupyter-widgets/base",
            "_view_module_version": "1.2.0",
            "_view_name": "StyleView",
            "description_width": ""
          }
        },
        "79977212fd7b453f930463d32bcf2c03": {
          "model_module": "@jupyter-widgets/base",
          "model_module_version": "1.2.0",
          "model_name": "LayoutModel",
          "state": {
            "_model_module": "@jupyter-widgets/base",
            "_model_module_version": "1.2.0",
            "_model_name": "LayoutModel",
            "_view_count": null,
            "_view_module": "@jupyter-widgets/base",
            "_view_module_version": "1.2.0",
            "_view_name": "LayoutView",
            "align_content": null,
            "align_items": null,
            "align_self": null,
            "border": null,
            "bottom": null,
            "display": null,
            "flex": null,
            "flex_flow": null,
            "grid_area": null,
            "grid_auto_columns": null,
            "grid_auto_flow": null,
            "grid_auto_rows": null,
            "grid_column": null,
            "grid_gap": null,
            "grid_row": null,
            "grid_template_areas": null,
            "grid_template_columns": null,
            "grid_template_rows": null,
            "height": null,
            "justify_content": null,
            "justify_items": null,
            "left": null,
            "margin": null,
            "max_height": null,
            "max_width": null,
            "min_height": null,
            "min_width": null,
            "object_fit": null,
            "object_position": null,
            "order": null,
            "overflow": null,
            "overflow_x": null,
            "overflow_y": null,
            "padding": null,
            "right": null,
            "top": null,
            "visibility": null,
            "width": null
          }
        },
        "83132df60b2049e3b4abacf945fffbd9": {
          "model_module": "@jupyter-widgets/controls",
          "model_module_version": "1.5.0",
          "model_name": "DescriptionStyleModel",
          "state": {
            "_model_module": "@jupyter-widgets/controls",
            "_model_module_version": "1.5.0",
            "_model_name": "DescriptionStyleModel",
            "_view_count": null,
            "_view_module": "@jupyter-widgets/base",
            "_view_module_version": "1.2.0",
            "_view_name": "StyleView",
            "description_width": ""
          }
        },
        "84ed3323f4d7435c96f976134b64b3d0": {
          "model_module": "@jupyter-widgets/base",
          "model_module_version": "1.2.0",
          "model_name": "LayoutModel",
          "state": {
            "_model_module": "@jupyter-widgets/base",
            "_model_module_version": "1.2.0",
            "_model_name": "LayoutModel",
            "_view_count": null,
            "_view_module": "@jupyter-widgets/base",
            "_view_module_version": "1.2.0",
            "_view_name": "LayoutView",
            "align_content": null,
            "align_items": null,
            "align_self": null,
            "border": null,
            "bottom": null,
            "display": null,
            "flex": null,
            "flex_flow": null,
            "grid_area": null,
            "grid_auto_columns": null,
            "grid_auto_flow": null,
            "grid_auto_rows": null,
            "grid_column": null,
            "grid_gap": null,
            "grid_row": null,
            "grid_template_areas": null,
            "grid_template_columns": null,
            "grid_template_rows": null,
            "height": null,
            "justify_content": null,
            "justify_items": null,
            "left": null,
            "margin": null,
            "max_height": null,
            "max_width": null,
            "min_height": null,
            "min_width": null,
            "object_fit": null,
            "object_position": null,
            "order": null,
            "overflow": null,
            "overflow_x": null,
            "overflow_y": null,
            "padding": null,
            "right": null,
            "top": null,
            "visibility": null,
            "width": null
          }
        },
        "851aec4e4fc141bd88ffc89dc9d34d60": {
          "model_module": "@jupyter-widgets/controls",
          "model_module_version": "1.5.0",
          "model_name": "DescriptionStyleModel",
          "state": {
            "_model_module": "@jupyter-widgets/controls",
            "_model_module_version": "1.5.0",
            "_model_name": "DescriptionStyleModel",
            "_view_count": null,
            "_view_module": "@jupyter-widgets/base",
            "_view_module_version": "1.2.0",
            "_view_name": "StyleView",
            "description_width": ""
          }
        },
        "86926fecf539471aa74e3a03184e8306": {
          "model_module": "@jupyter-widgets/base",
          "model_module_version": "1.2.0",
          "model_name": "LayoutModel",
          "state": {
            "_model_module": "@jupyter-widgets/base",
            "_model_module_version": "1.2.0",
            "_model_name": "LayoutModel",
            "_view_count": null,
            "_view_module": "@jupyter-widgets/base",
            "_view_module_version": "1.2.0",
            "_view_name": "LayoutView",
            "align_content": null,
            "align_items": null,
            "align_self": null,
            "border": null,
            "bottom": null,
            "display": null,
            "flex": null,
            "flex_flow": null,
            "grid_area": null,
            "grid_auto_columns": null,
            "grid_auto_flow": null,
            "grid_auto_rows": null,
            "grid_column": null,
            "grid_gap": null,
            "grid_row": null,
            "grid_template_areas": null,
            "grid_template_columns": null,
            "grid_template_rows": null,
            "height": null,
            "justify_content": null,
            "justify_items": null,
            "left": null,
            "margin": null,
            "max_height": null,
            "max_width": null,
            "min_height": null,
            "min_width": null,
            "object_fit": null,
            "object_position": null,
            "order": null,
            "overflow": null,
            "overflow_x": null,
            "overflow_y": null,
            "padding": null,
            "right": null,
            "top": null,
            "visibility": null,
            "width": null
          }
        },
        "89113a19df1a4711aae17225e16481a8": {
          "model_module": "@jupyter-widgets/controls",
          "model_module_version": "1.5.0",
          "model_name": "HTMLModel",
          "state": {
            "_dom_classes": [],
            "_model_module": "@jupyter-widgets/controls",
            "_model_module_version": "1.5.0",
            "_model_name": "HTMLModel",
            "_view_count": null,
            "_view_module": "@jupyter-widgets/controls",
            "_view_module_version": "1.5.0",
            "_view_name": "HTMLView",
            "description": "",
            "description_tooltip": null,
            "layout": "IPY_MODEL_79977212fd7b453f930463d32bcf2c03",
            "placeholder": "​",
            "style": "IPY_MODEL_2cfddb0d17204ac3a177aa2142ae0e22",
            "value": "Downloading (…)olve/main/merges.txt: 100%"
          }
        },
        "8b6334d0bfcf40639cfbcec1dd32a6e1": {
          "model_module": "@jupyter-widgets/controls",
          "model_module_version": "1.5.0",
          "model_name": "ProgressStyleModel",
          "state": {
            "_model_module": "@jupyter-widgets/controls",
            "_model_module_version": "1.5.0",
            "_model_name": "ProgressStyleModel",
            "_view_count": null,
            "_view_module": "@jupyter-widgets/base",
            "_view_module_version": "1.2.0",
            "_view_name": "StyleView",
            "bar_color": null,
            "description_width": ""
          }
        },
        "8e09edb31d0747b7b208e8dbaa1e1a29": {
          "model_module": "@jupyter-widgets/base",
          "model_module_version": "1.2.0",
          "model_name": "LayoutModel",
          "state": {
            "_model_module": "@jupyter-widgets/base",
            "_model_module_version": "1.2.0",
            "_model_name": "LayoutModel",
            "_view_count": null,
            "_view_module": "@jupyter-widgets/base",
            "_view_module_version": "1.2.0",
            "_view_name": "LayoutView",
            "align_content": null,
            "align_items": null,
            "align_self": null,
            "border": null,
            "bottom": null,
            "display": null,
            "flex": null,
            "flex_flow": null,
            "grid_area": null,
            "grid_auto_columns": null,
            "grid_auto_flow": null,
            "grid_auto_rows": null,
            "grid_column": null,
            "grid_gap": null,
            "grid_row": null,
            "grid_template_areas": null,
            "grid_template_columns": null,
            "grid_template_rows": null,
            "height": null,
            "justify_content": null,
            "justify_items": null,
            "left": null,
            "margin": null,
            "max_height": null,
            "max_width": null,
            "min_height": null,
            "min_width": null,
            "object_fit": null,
            "object_position": null,
            "order": null,
            "overflow": null,
            "overflow_x": null,
            "overflow_y": null,
            "padding": null,
            "right": null,
            "top": null,
            "visibility": null,
            "width": null
          }
        },
        "91a26eb4497547aa844175547522606b": {
          "model_module": "@jupyter-widgets/controls",
          "model_module_version": "1.5.0",
          "model_name": "ProgressStyleModel",
          "state": {
            "_model_module": "@jupyter-widgets/controls",
            "_model_module_version": "1.5.0",
            "_model_name": "ProgressStyleModel",
            "_view_count": null,
            "_view_module": "@jupyter-widgets/base",
            "_view_module_version": "1.2.0",
            "_view_name": "StyleView",
            "bar_color": null,
            "description_width": ""
          }
        },
        "96ccd1ff2b6c4bb4abd3693a1f094239": {
          "model_module": "@jupyter-widgets/base",
          "model_module_version": "1.2.0",
          "model_name": "LayoutModel",
          "state": {
            "_model_module": "@jupyter-widgets/base",
            "_model_module_version": "1.2.0",
            "_model_name": "LayoutModel",
            "_view_count": null,
            "_view_module": "@jupyter-widgets/base",
            "_view_module_version": "1.2.0",
            "_view_name": "LayoutView",
            "align_content": null,
            "align_items": null,
            "align_self": null,
            "border": null,
            "bottom": null,
            "display": null,
            "flex": null,
            "flex_flow": null,
            "grid_area": null,
            "grid_auto_columns": null,
            "grid_auto_flow": null,
            "grid_auto_rows": null,
            "grid_column": null,
            "grid_gap": null,
            "grid_row": null,
            "grid_template_areas": null,
            "grid_template_columns": null,
            "grid_template_rows": null,
            "height": null,
            "justify_content": null,
            "justify_items": null,
            "left": null,
            "margin": null,
            "max_height": null,
            "max_width": null,
            "min_height": null,
            "min_width": null,
            "object_fit": null,
            "object_position": null,
            "order": null,
            "overflow": null,
            "overflow_x": null,
            "overflow_y": null,
            "padding": null,
            "right": null,
            "top": null,
            "visibility": null,
            "width": null
          }
        },
        "9d3a004ff3e046d583a06add49356ec5": {
          "model_module": "@jupyter-widgets/controls",
          "model_module_version": "1.5.0",
          "model_name": "FloatProgressModel",
          "state": {
            "_dom_classes": [],
            "_model_module": "@jupyter-widgets/controls",
            "_model_module_version": "1.5.0",
            "_model_name": "FloatProgressModel",
            "_view_count": null,
            "_view_module": "@jupyter-widgets/controls",
            "_view_module_version": "1.5.0",
            "_view_name": "ProgressView",
            "bar_style": "success",
            "description": "",
            "description_tooltip": null,
            "layout": "IPY_MODEL_4b60be16287e4de6af7e8d09e13d948f",
            "max": 1355863,
            "min": 0,
            "orientation": "horizontal",
            "style": "IPY_MODEL_9f06215b6b694e8f8b3d5e5bbd03beae",
            "value": 1355863
          }
        },
        "9f06215b6b694e8f8b3d5e5bbd03beae": {
          "model_module": "@jupyter-widgets/controls",
          "model_module_version": "1.5.0",
          "model_name": "ProgressStyleModel",
          "state": {
            "_model_module": "@jupyter-widgets/controls",
            "_model_module_version": "1.5.0",
            "_model_name": "ProgressStyleModel",
            "_view_count": null,
            "_view_module": "@jupyter-widgets/base",
            "_view_module_version": "1.2.0",
            "_view_name": "StyleView",
            "bar_color": null,
            "description_width": ""
          }
        },
        "9f7b9849bd6c4ada891b879cea89aae5": {
          "model_module": "@jupyter-widgets/controls",
          "model_module_version": "1.5.0",
          "model_name": "HTMLModel",
          "state": {
            "_dom_classes": [],
            "_model_module": "@jupyter-widgets/controls",
            "_model_module_version": "1.5.0",
            "_model_name": "HTMLModel",
            "_view_count": null,
            "_view_module": "@jupyter-widgets/controls",
            "_view_module_version": "1.5.0",
            "_view_name": "HTMLView",
            "description": "",
            "description_tooltip": null,
            "layout": "IPY_MODEL_caa25bf640f546e792acf2ca2a4fd26c",
            "placeholder": "​",
            "style": "IPY_MODEL_83132df60b2049e3b4abacf945fffbd9",
            "value": " 481/481 [00:00&lt;00:00, 5.54kB/s]"
          }
        },
        "9ffaa2874d774850a26c4356ed546606": {
          "model_module": "@jupyter-widgets/base",
          "model_module_version": "1.2.0",
          "model_name": "LayoutModel",
          "state": {
            "_model_module": "@jupyter-widgets/base",
            "_model_module_version": "1.2.0",
            "_model_name": "LayoutModel",
            "_view_count": null,
            "_view_module": "@jupyter-widgets/base",
            "_view_module_version": "1.2.0",
            "_view_name": "LayoutView",
            "align_content": null,
            "align_items": null,
            "align_self": null,
            "border": null,
            "bottom": null,
            "display": null,
            "flex": null,
            "flex_flow": null,
            "grid_area": null,
            "grid_auto_columns": null,
            "grid_auto_flow": null,
            "grid_auto_rows": null,
            "grid_column": null,
            "grid_gap": null,
            "grid_row": null,
            "grid_template_areas": null,
            "grid_template_columns": null,
            "grid_template_rows": null,
            "height": null,
            "justify_content": null,
            "justify_items": null,
            "left": null,
            "margin": null,
            "max_height": null,
            "max_width": null,
            "min_height": null,
            "min_width": null,
            "object_fit": null,
            "object_position": null,
            "order": null,
            "overflow": null,
            "overflow_x": null,
            "overflow_y": null,
            "padding": null,
            "right": null,
            "top": null,
            "visibility": null,
            "width": null
          }
        },
        "b0a97fd498754613bd6723736a4cccb8": {
          "model_module": "@jupyter-widgets/base",
          "model_module_version": "1.2.0",
          "model_name": "LayoutModel",
          "state": {
            "_model_module": "@jupyter-widgets/base",
            "_model_module_version": "1.2.0",
            "_model_name": "LayoutModel",
            "_view_count": null,
            "_view_module": "@jupyter-widgets/base",
            "_view_module_version": "1.2.0",
            "_view_name": "LayoutView",
            "align_content": null,
            "align_items": null,
            "align_self": null,
            "border": null,
            "bottom": null,
            "display": null,
            "flex": null,
            "flex_flow": null,
            "grid_area": null,
            "grid_auto_columns": null,
            "grid_auto_flow": null,
            "grid_auto_rows": null,
            "grid_column": null,
            "grid_gap": null,
            "grid_row": null,
            "grid_template_areas": null,
            "grid_template_columns": null,
            "grid_template_rows": null,
            "height": null,
            "justify_content": null,
            "justify_items": null,
            "left": null,
            "margin": null,
            "max_height": null,
            "max_width": null,
            "min_height": null,
            "min_width": null,
            "object_fit": null,
            "object_position": null,
            "order": null,
            "overflow": null,
            "overflow_x": null,
            "overflow_y": null,
            "padding": null,
            "right": null,
            "top": null,
            "visibility": null,
            "width": null
          }
        },
        "c2d915f67202470aaf3fb882cdc77076": {
          "model_module": "@jupyter-widgets/controls",
          "model_module_version": "1.5.0",
          "model_name": "HTMLModel",
          "state": {
            "_dom_classes": [],
            "_model_module": "@jupyter-widgets/controls",
            "_model_module_version": "1.5.0",
            "_model_name": "HTMLModel",
            "_view_count": null,
            "_view_module": "@jupyter-widgets/controls",
            "_view_module_version": "1.5.0",
            "_view_name": "HTMLView",
            "description": "",
            "description_tooltip": null,
            "layout": "IPY_MODEL_58a722649fc542ebaf0e4d0025a3ccc4",
            "placeholder": "​",
            "style": "IPY_MODEL_7880319948c9425f8f390847267799f3",
            "value": "Downloading (…)/main/tokenizer.json: 100%"
          }
        },
        "c482a8a0e6b748f685147a04cb871578": {
          "model_module": "@jupyter-widgets/controls",
          "model_module_version": "1.5.0",
          "model_name": "FloatProgressModel",
          "state": {
            "_dom_classes": [],
            "_model_module": "@jupyter-widgets/controls",
            "_model_module_version": "1.5.0",
            "_model_name": "FloatProgressModel",
            "_view_count": null,
            "_view_module": "@jupyter-widgets/controls",
            "_view_module_version": "1.5.0",
            "_view_name": "ProgressView",
            "bar_style": "success",
            "description": "",
            "description_tooltip": null,
            "layout": "IPY_MODEL_07ff01d2161444c2a6e513b5cae39a5f",
            "max": 501200538,
            "min": 0,
            "orientation": "horizontal",
            "style": "IPY_MODEL_91a26eb4497547aa844175547522606b",
            "value": 501200538
          }
        },
        "caa25bf640f546e792acf2ca2a4fd26c": {
          "model_module": "@jupyter-widgets/base",
          "model_module_version": "1.2.0",
          "model_name": "LayoutModel",
          "state": {
            "_model_module": "@jupyter-widgets/base",
            "_model_module_version": "1.2.0",
            "_model_name": "LayoutModel",
            "_view_count": null,
            "_view_module": "@jupyter-widgets/base",
            "_view_module_version": "1.2.0",
            "_view_name": "LayoutView",
            "align_content": null,
            "align_items": null,
            "align_self": null,
            "border": null,
            "bottom": null,
            "display": null,
            "flex": null,
            "flex_flow": null,
            "grid_area": null,
            "grid_auto_columns": null,
            "grid_auto_flow": null,
            "grid_auto_rows": null,
            "grid_column": null,
            "grid_gap": null,
            "grid_row": null,
            "grid_template_areas": null,
            "grid_template_columns": null,
            "grid_template_rows": null,
            "height": null,
            "justify_content": null,
            "justify_items": null,
            "left": null,
            "margin": null,
            "max_height": null,
            "max_width": null,
            "min_height": null,
            "min_width": null,
            "object_fit": null,
            "object_position": null,
            "order": null,
            "overflow": null,
            "overflow_x": null,
            "overflow_y": null,
            "padding": null,
            "right": null,
            "top": null,
            "visibility": null,
            "width": null
          }
        },
        "cc00d4eb4edf4e6c89cf34bdfe5e9df0": {
          "model_module": "@jupyter-widgets/controls",
          "model_module_version": "1.5.0",
          "model_name": "FloatProgressModel",
          "state": {
            "_dom_classes": [],
            "_model_module": "@jupyter-widgets/controls",
            "_model_module_version": "1.5.0",
            "_model_name": "FloatProgressModel",
            "_view_count": null,
            "_view_module": "@jupyter-widgets/controls",
            "_view_module_version": "1.5.0",
            "_view_name": "ProgressView",
            "bar_style": "success",
            "description": "",
            "description_tooltip": null,
            "layout": "IPY_MODEL_f701bac0391644d29d533013044a36ff",
            "max": 481,
            "min": 0,
            "orientation": "horizontal",
            "style": "IPY_MODEL_30e6d7c929e1425bab73ccf4d7e78d9b",
            "value": 481
          }
        },
        "cc2d487c4d55488dab626b073b552d63": {
          "model_module": "@jupyter-widgets/controls",
          "model_module_version": "1.5.0",
          "model_name": "HBoxModel",
          "state": {
            "_dom_classes": [],
            "_model_module": "@jupyter-widgets/controls",
            "_model_module_version": "1.5.0",
            "_model_name": "HBoxModel",
            "_view_count": null,
            "_view_module": "@jupyter-widgets/controls",
            "_view_module_version": "1.5.0",
            "_view_name": "HBoxView",
            "box_style": "",
            "children": [
              "IPY_MODEL_34b1326c60e14aa9b031da9027b63963",
              "IPY_MODEL_c482a8a0e6b748f685147a04cb871578",
              "IPY_MODEL_d84c9f307ad144a9ac40d2b30e815fd9"
            ],
            "layout": "IPY_MODEL_86926fecf539471aa74e3a03184e8306"
          }
        },
        "d2e80101d49544b388b5e55da4473086": {
          "model_module": "@jupyter-widgets/controls",
          "model_module_version": "1.5.0",
          "model_name": "DescriptionStyleModel",
          "state": {
            "_model_module": "@jupyter-widgets/controls",
            "_model_module_version": "1.5.0",
            "_model_name": "DescriptionStyleModel",
            "_view_count": null,
            "_view_module": "@jupyter-widgets/base",
            "_view_module_version": "1.2.0",
            "_view_name": "StyleView",
            "description_width": ""
          }
        },
        "d39e7f9c272b402ab7d9752a47699ad9": {
          "model_module": "@jupyter-widgets/controls",
          "model_module_version": "1.5.0",
          "model_name": "HBoxModel",
          "state": {
            "_dom_classes": [],
            "_model_module": "@jupyter-widgets/controls",
            "_model_module_version": "1.5.0",
            "_model_name": "HBoxModel",
            "_view_count": null,
            "_view_module": "@jupyter-widgets/controls",
            "_view_module_version": "1.5.0",
            "_view_name": "HBoxView",
            "box_style": "",
            "children": [
              "IPY_MODEL_6e7812ba271145419342413c53670d3f",
              "IPY_MODEL_cc00d4eb4edf4e6c89cf34bdfe5e9df0",
              "IPY_MODEL_9f7b9849bd6c4ada891b879cea89aae5"
            ],
            "layout": "IPY_MODEL_b0a97fd498754613bd6723736a4cccb8"
          }
        },
        "d4f3ba8bdf4f47fc9d756cba7fcfff99": {
          "model_module": "@jupyter-widgets/controls",
          "model_module_version": "1.5.0",
          "model_name": "DescriptionStyleModel",
          "state": {
            "_model_module": "@jupyter-widgets/controls",
            "_model_module_version": "1.5.0",
            "_model_name": "DescriptionStyleModel",
            "_view_count": null,
            "_view_module": "@jupyter-widgets/base",
            "_view_module_version": "1.2.0",
            "_view_name": "StyleView",
            "description_width": ""
          }
        },
        "d84c9f307ad144a9ac40d2b30e815fd9": {
          "model_module": "@jupyter-widgets/controls",
          "model_module_version": "1.5.0",
          "model_name": "HTMLModel",
          "state": {
            "_dom_classes": [],
            "_model_module": "@jupyter-widgets/controls",
            "_model_module_version": "1.5.0",
            "_model_name": "HTMLModel",
            "_view_count": null,
            "_view_module": "@jupyter-widgets/controls",
            "_view_module_version": "1.5.0",
            "_view_name": "HTMLView",
            "description": "",
            "description_tooltip": null,
            "layout": "IPY_MODEL_fae8c9b2f1c74c1bb94fb5959e4c8d5c",
            "placeholder": "​",
            "style": "IPY_MODEL_d2e80101d49544b388b5e55da4473086",
            "value": " 501M/501M [00:06&lt;00:00, 84.8MB/s]"
          }
        },
        "dd3e110b11fe4cd0872feec29eb0cb29": {
          "model_module": "@jupyter-widgets/controls",
          "model_module_version": "1.5.0",
          "model_name": "HTMLModel",
          "state": {
            "_dom_classes": [],
            "_model_module": "@jupyter-widgets/controls",
            "_model_module_version": "1.5.0",
            "_model_name": "HTMLModel",
            "_view_count": null,
            "_view_module": "@jupyter-widgets/controls",
            "_view_module_version": "1.5.0",
            "_view_name": "HTMLView",
            "description": "",
            "description_tooltip": null,
            "layout": "IPY_MODEL_f1f0d79f989e4433bdb126d6458bedd3",
            "placeholder": "​",
            "style": "IPY_MODEL_2b9698cc850e46a4940cfbc2a09cc333",
            "value": " 456k/456k [00:00&lt;00:00, 504kB/s]"
          }
        },
        "e0e6a8e04ece468aafbd98cba21522b8": {
          "model_module": "@jupyter-widgets/controls",
          "model_module_version": "1.5.0",
          "model_name": "DescriptionStyleModel",
          "state": {
            "_model_module": "@jupyter-widgets/controls",
            "_model_module_version": "1.5.0",
            "_model_name": "DescriptionStyleModel",
            "_view_count": null,
            "_view_module": "@jupyter-widgets/base",
            "_view_module_version": "1.2.0",
            "_view_name": "StyleView",
            "description_width": ""
          }
        },
        "e1cb7a29e0ee4f9ca286286fc5872006": {
          "model_module": "@jupyter-widgets/controls",
          "model_module_version": "1.5.0",
          "model_name": "DescriptionStyleModel",
          "state": {
            "_model_module": "@jupyter-widgets/controls",
            "_model_module_version": "1.5.0",
            "_model_name": "DescriptionStyleModel",
            "_view_count": null,
            "_view_module": "@jupyter-widgets/base",
            "_view_module_version": "1.2.0",
            "_view_name": "StyleView",
            "description_width": ""
          }
        },
        "eaa888c005ec4ff692fe006fea3270e1": {
          "model_module": "@jupyter-widgets/base",
          "model_module_version": "1.2.0",
          "model_name": "LayoutModel",
          "state": {
            "_model_module": "@jupyter-widgets/base",
            "_model_module_version": "1.2.0",
            "_model_name": "LayoutModel",
            "_view_count": null,
            "_view_module": "@jupyter-widgets/base",
            "_view_module_version": "1.2.0",
            "_view_name": "LayoutView",
            "align_content": null,
            "align_items": null,
            "align_self": null,
            "border": null,
            "bottom": null,
            "display": null,
            "flex": null,
            "flex_flow": null,
            "grid_area": null,
            "grid_auto_columns": null,
            "grid_auto_flow": null,
            "grid_auto_rows": null,
            "grid_column": null,
            "grid_gap": null,
            "grid_row": null,
            "grid_template_areas": null,
            "grid_template_columns": null,
            "grid_template_rows": null,
            "height": null,
            "justify_content": null,
            "justify_items": null,
            "left": null,
            "margin": null,
            "max_height": null,
            "max_width": null,
            "min_height": null,
            "min_width": null,
            "object_fit": null,
            "object_position": null,
            "order": null,
            "overflow": null,
            "overflow_x": null,
            "overflow_y": null,
            "padding": null,
            "right": null,
            "top": null,
            "visibility": null,
            "width": null
          }
        },
        "f1f0d79f989e4433bdb126d6458bedd3": {
          "model_module": "@jupyter-widgets/base",
          "model_module_version": "1.2.0",
          "model_name": "LayoutModel",
          "state": {
            "_model_module": "@jupyter-widgets/base",
            "_model_module_version": "1.2.0",
            "_model_name": "LayoutModel",
            "_view_count": null,
            "_view_module": "@jupyter-widgets/base",
            "_view_module_version": "1.2.0",
            "_view_name": "LayoutView",
            "align_content": null,
            "align_items": null,
            "align_self": null,
            "border": null,
            "bottom": null,
            "display": null,
            "flex": null,
            "flex_flow": null,
            "grid_area": null,
            "grid_auto_columns": null,
            "grid_auto_flow": null,
            "grid_auto_rows": null,
            "grid_column": null,
            "grid_gap": null,
            "grid_row": null,
            "grid_template_areas": null,
            "grid_template_columns": null,
            "grid_template_rows": null,
            "height": null,
            "justify_content": null,
            "justify_items": null,
            "left": null,
            "margin": null,
            "max_height": null,
            "max_width": null,
            "min_height": null,
            "min_width": null,
            "object_fit": null,
            "object_position": null,
            "order": null,
            "overflow": null,
            "overflow_x": null,
            "overflow_y": null,
            "padding": null,
            "right": null,
            "top": null,
            "visibility": null,
            "width": null
          }
        },
        "f2cabe4ed7b0417e9956120e8a62f9f3": {
          "model_module": "@jupyter-widgets/base",
          "model_module_version": "1.2.0",
          "model_name": "LayoutModel",
          "state": {
            "_model_module": "@jupyter-widgets/base",
            "_model_module_version": "1.2.0",
            "_model_name": "LayoutModel",
            "_view_count": null,
            "_view_module": "@jupyter-widgets/base",
            "_view_module_version": "1.2.0",
            "_view_name": "LayoutView",
            "align_content": null,
            "align_items": null,
            "align_self": null,
            "border": null,
            "bottom": null,
            "display": null,
            "flex": null,
            "flex_flow": null,
            "grid_area": null,
            "grid_auto_columns": null,
            "grid_auto_flow": null,
            "grid_auto_rows": null,
            "grid_column": null,
            "grid_gap": null,
            "grid_row": null,
            "grid_template_areas": null,
            "grid_template_columns": null,
            "grid_template_rows": null,
            "height": null,
            "justify_content": null,
            "justify_items": null,
            "left": null,
            "margin": null,
            "max_height": null,
            "max_width": null,
            "min_height": null,
            "min_width": null,
            "object_fit": null,
            "object_position": null,
            "order": null,
            "overflow": null,
            "overflow_x": null,
            "overflow_y": null,
            "padding": null,
            "right": null,
            "top": null,
            "visibility": null,
            "width": null
          }
        },
        "f701bac0391644d29d533013044a36ff": {
          "model_module": "@jupyter-widgets/base",
          "model_module_version": "1.2.0",
          "model_name": "LayoutModel",
          "state": {
            "_model_module": "@jupyter-widgets/base",
            "_model_module_version": "1.2.0",
            "_model_name": "LayoutModel",
            "_view_count": null,
            "_view_module": "@jupyter-widgets/base",
            "_view_module_version": "1.2.0",
            "_view_name": "LayoutView",
            "align_content": null,
            "align_items": null,
            "align_self": null,
            "border": null,
            "bottom": null,
            "display": null,
            "flex": null,
            "flex_flow": null,
            "grid_area": null,
            "grid_auto_columns": null,
            "grid_auto_flow": null,
            "grid_auto_rows": null,
            "grid_column": null,
            "grid_gap": null,
            "grid_row": null,
            "grid_template_areas": null,
            "grid_template_columns": null,
            "grid_template_rows": null,
            "height": null,
            "justify_content": null,
            "justify_items": null,
            "left": null,
            "margin": null,
            "max_height": null,
            "max_width": null,
            "min_height": null,
            "min_width": null,
            "object_fit": null,
            "object_position": null,
            "order": null,
            "overflow": null,
            "overflow_x": null,
            "overflow_y": null,
            "padding": null,
            "right": null,
            "top": null,
            "visibility": null,
            "width": null
          }
        },
        "f77c97981971499585eef6337767021a": {
          "model_module": "@jupyter-widgets/controls",
          "model_module_version": "1.5.0",
          "model_name": "HBoxModel",
          "state": {
            "_dom_classes": [],
            "_model_module": "@jupyter-widgets/controls",
            "_model_module_version": "1.5.0",
            "_model_name": "HBoxModel",
            "_view_count": null,
            "_view_module": "@jupyter-widgets/controls",
            "_view_module_version": "1.5.0",
            "_view_name": "HBoxView",
            "box_style": "",
            "children": [
              "IPY_MODEL_c2d915f67202470aaf3fb882cdc77076",
              "IPY_MODEL_9d3a004ff3e046d583a06add49356ec5",
              "IPY_MODEL_32cce2193b76495dabd165dde1280ac0"
            ],
            "layout": "IPY_MODEL_5998b9b5abc54d20aef731a5575a530e"
          }
        },
        "fae8c9b2f1c74c1bb94fb5959e4c8d5c": {
          "model_module": "@jupyter-widgets/base",
          "model_module_version": "1.2.0",
          "model_name": "LayoutModel",
          "state": {
            "_model_module": "@jupyter-widgets/base",
            "_model_module_version": "1.2.0",
            "_model_name": "LayoutModel",
            "_view_count": null,
            "_view_module": "@jupyter-widgets/base",
            "_view_module_version": "1.2.0",
            "_view_name": "LayoutView",
            "align_content": null,
            "align_items": null,
            "align_self": null,
            "border": null,
            "bottom": null,
            "display": null,
            "flex": null,
            "flex_flow": null,
            "grid_area": null,
            "grid_auto_columns": null,
            "grid_auto_flow": null,
            "grid_auto_rows": null,
            "grid_column": null,
            "grid_gap": null,
            "grid_row": null,
            "grid_template_areas": null,
            "grid_template_columns": null,
            "grid_template_rows": null,
            "height": null,
            "justify_content": null,
            "justify_items": null,
            "left": null,
            "margin": null,
            "max_height": null,
            "max_width": null,
            "min_height": null,
            "min_width": null,
            "object_fit": null,
            "object_position": null,
            "order": null,
            "overflow": null,
            "overflow_x": null,
            "overflow_y": null,
            "padding": null,
            "right": null,
            "top": null,
            "visibility": null,
            "width": null
          }
        }
      }
    }
  },
  "nbformat": 4,
  "nbformat_minor": 0
}
